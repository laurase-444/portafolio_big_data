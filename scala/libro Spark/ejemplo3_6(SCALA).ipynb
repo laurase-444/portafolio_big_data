{
 "cells": [
  {
   "cell_type": "code",
   "execution_count": 45,
   "id": "6f6ede43",
   "metadata": {},
   "outputs": [
    {
     "data": {
      "text/plain": [
       "import org.apache.spark.sql.SparkSession\r\n",
       "import org.apache.spark.sql.functions._\r\n",
       "import org.apache.spark.sql.types._\r\n",
       "import org.apache.spark.sql.types.StructType._\r\n",
       "import spark.implicits._\r\n",
       "import Array._\r\n",
       "import scala.collection.mutable.ArrayBuffer\r\n",
       "import org.apache.spark.sql.Row\r\n"
      ]
     },
     "execution_count": 45,
     "metadata": {},
     "output_type": "execute_result"
    }
   ],
   "source": [
    "import org.apache.spark.sql.SparkSession\n",
    "import org.apache.spark.sql.functions._\n",
    "import org.apache.spark.sql.types._\n",
    "import org.apache.spark.sql.types.StructType._\n",
    "import spark.implicits._\n",
    "import Array._\n",
    "import scala.collection.mutable.ArrayBuffer\n",
    "import org.apache.spark.sql.Row"
   ]
  },
  {
   "cell_type": "code",
   "execution_count": 53,
   "id": "0152bc66",
   "metadata": {},
   "outputs": [
    {
     "data": {
      "text/plain": [
       "schema: org.apache.spark.sql.types.StructType = StructType(StructField(Id,IntegerType,false), StructField(First,StringType,false), StructField(Last,StringType,false), StructField(Url,StringType,false), StructField(Published,StringType,false), StructField(Hits,IntegerType,false), StructField(Campaigns,ArrayType(StringType,true),false))\r\n"
      ]
     },
     "execution_count": 53,
     "metadata": {},
     "output_type": "execute_result"
    }
   ],
   "source": [
    " val schema = StructType(Array(StructField(\"Id\", IntegerType, false),\n",
    " StructField(\"First\", StringType, false),\n",
    " StructField(\"Last\", StringType, false),\n",
    " StructField(\"Url\", StringType, false),\n",
    " StructField(\"Published\", StringType, false),\n",
    " StructField(\"Hits\", IntegerType, false),\n",
    " StructField(\"Campaigns\", ArrayType(StringType), false)))"
   ]
  },
  {
   "cell_type": "code",
   "execution_count": 46,
   "id": "7be80fd7",
   "metadata": {},
   "outputs": [
    {
     "data": {
      "text/plain": [
       "data: Seq[org.apache.spark.sql.Row] = List([1,Jules,Damji,https://tinyurl.1,1/4/2016,4535,[Ljava.lang.String;@65e7a918], [2,Brooke,Wenig,https://tinyurl.2,5/5/2018,8908,[Ljava.lang.String;@63c7473b], [3,Denny,Lee,https://tinyurl.3,6/7/2019,7659,[Ljava.lang.String;@2fd1029b], [4,Tathagata,Das,https://tinyurl.4,5/12/2018,10568,[Ljava.lang.String;@19ca2881], [5,Matei,Zaharia,https://tinyurl.5,5/14/2014,40578,[Ljava.lang.String;@413dedc9], [6,Reynold,Xin,https://tinyurl.6,3/2/2015,25568,[Ljava.lang.String;@181a844a])\r\n"
      ]
     },
     "execution_count": 46,
     "metadata": {},
     "output_type": "execute_result"
    }
   ],
   "source": [
    "val data= Seq(Row(1, \"Jules\", \"Damji\", \"https://tinyurl.1\", \"1/4/2016\", 4535,Array(\"twitter\", \"LinkedIn\")),Row(2, \"Brooke\",\"Wenig\",\"https://tinyurl.2\", \"5/5/2018\", 8908, Array(\"twitter\", \"LinkedIn\")),Row(3, \"Denny\", \"Lee\", \"https://tinyurl.3\",\"6/7/2019\",7659, Array(\"web\", \"twitter\", \"FB\", \"LinkedIn\")),Row(4, \"Tathagata\", \"Das\",\"https://tinyurl.4\", \"5/12/2018\", 10568, Array(\"twitter\", \"FB\")),Row(5, \"Matei\",\"Zaharia\", \"https://tinyurl.5\", \"5/14/2014\", 40578, Array(\"web\", \"twitter\", \"FB\", \"LinkedIn\")),\n",
    "Row(6, \"Reynold\", \"Xin\", \"https://tinyurl.6\", \"3/2/2015\", 25568, Array(\"twitter\", \"LinkedIn\")))"
   ]
  },
  {
   "cell_type": "code",
   "execution_count": 48,
   "id": "f0c31bf7",
   "metadata": {},
   "outputs": [],
   "source": [
    "spark.stop()"
   ]
  },
  {
   "cell_type": "code",
   "execution_count": 49,
   "id": "71cb9d9d",
   "metadata": {},
   "outputs": [
    {
     "data": {
      "text/plain": [
       "spark: org.apache.spark.sql.SparkSession = org.apache.spark.sql.SparkSession@108ddf78\r\n"
      ]
     },
     "execution_count": 49,
     "metadata": {},
     "output_type": "execute_result"
    }
   ],
   "source": [
    "val spark = (SparkSession\n",
    "       .builder\n",
    "       .appName(\"Example-3_6\")\n",
    "       .getOrCreate())"
   ]
  },
  {
   "cell_type": "code",
   "execution_count": 58,
   "id": "285d8a64",
   "metadata": {},
   "outputs": [
    {
     "data": {
      "text/plain": [
       "blogs_df: org.apache.spark.sql.DataFrame = [Id: int, First: string ... 5 more fields]\r\n"
      ]
     },
     "execution_count": 58,
     "metadata": {},
     "output_type": "execute_result"
    }
   ],
   "source": [
    "val blogs_df = spark.createDataFrame(spark.sparkContext.parallelize(data), StructType(schema))"
   ]
  },
  {
   "cell_type": "code",
   "execution_count": 59,
   "id": "ed8565cb",
   "metadata": {},
   "outputs": [
    {
     "name": "stdout",
     "output_type": "stream",
     "text": [
      "root\n",
      " |-- Id: integer (nullable = false)\n",
      " |-- First: string (nullable = false)\n",
      " |-- Last: string (nullable = false)\n",
      " |-- Url: string (nullable = false)\n",
      " |-- Published: string (nullable = false)\n",
      " |-- Hits: integer (nullable = false)\n",
      " |-- Campaigns: array (nullable = false)\n",
      " |    |-- element: string (containsNull = true)\n",
      "\r\n"
     ]
    }
   ],
   "source": [
    "blogs_df.printSchema()"
   ]
  },
  {
   "cell_type": "code",
   "execution_count": 60,
   "id": "bfb565d3",
   "metadata": {},
   "outputs": [
    {
     "name": "stdout",
     "output_type": "stream",
     "text": [
      "+---+---------+-------+-----------------+---------+-----+--------------------+\n",
      "| Id|    First|   Last|              Url|Published| Hits|           Campaigns|\n",
      "+---+---------+-------+-----------------+---------+-----+--------------------+\n",
      "|  1|    Jules|  Damji|https://tinyurl.1| 1/4/2016| 4535| [twitter, LinkedIn]|\n",
      "|  2|   Brooke|  Wenig|https://tinyurl.2| 5/5/2018| 8908| [twitter, LinkedIn]|\n",
      "|  3|    Denny|    Lee|https://tinyurl.3| 6/7/2019| 7659|[web, twitter, FB...|\n",
      "|  4|Tathagata|    Das|https://tinyurl.4|5/12/2018|10568|       [twitter, FB]|\n",
      "|  5|    Matei|Zaharia|https://tinyurl.5|5/14/2014|40578|[web, twitter, FB...|\n",
      "|  6|  Reynold|    Xin|https://tinyurl.6| 3/2/2015|25568| [twitter, LinkedIn]|\n",
      "+---+---------+-------+-----------------+---------+-----+--------------------+\n",
      "\r\n"
     ]
    }
   ],
   "source": [
    "blogs_df.show()"
   ]
  },
  {
   "cell_type": "code",
   "execution_count": 61,
   "id": "1e29ca8f",
   "metadata": {},
   "outputs": [
    {
     "name": "stdout",
     "output_type": "stream",
     "text": [
      "+----------+\n",
      "|(Hits * 2)|\n",
      "+----------+\n",
      "|      9070|\n",
      "|     17816|\n",
      "+----------+\n",
      "only showing top 2 rows\n",
      "\n",
      "+----------+\n",
      "|(Hits * 2)|\n",
      "+----------+\n",
      "|      9070|\n",
      "|     17816|\n",
      "+----------+\n",
      "only showing top 2 rows\n",
      "\n",
      "+----------+\n",
      "|(Hits * 2)|\n",
      "+----------+\n",
      "|      9070|\n",
      "|     17816|\n",
      "+----------+\n",
      "only showing top 2 rows\n",
      "\n"
     ]
    }
   ],
   "source": [
    "blogs_df.select(expr(\"Hits\") * 2).show(2)\n",
    "blogs_df.select(col(\"Hits\") * 2).show(2)\n",
    "blogs_df.select(expr(\"Hits * 2\")).show(2)"
   ]
  },
  {
   "cell_type": "code",
   "execution_count": null,
   "id": "4b804c84",
   "metadata": {},
   "outputs": [],
   "source": []
  }
 ],
 "metadata": {
  "kernelspec": {
   "display_name": "spylon-kernel",
   "language": "scala",
   "name": "spylon-kernel"
  },
  "language_info": {
   "codemirror_mode": "text/x-scala",
   "file_extension": ".scala",
   "help_links": [
    {
     "text": "MetaKernel Magics",
     "url": "https://metakernel.readthedocs.io/en/latest/source/README.html"
    }
   ],
   "mimetype": "text/x-scala",
   "name": "scala",
   "pygments_lexer": "scala",
   "version": "0.4.1"
  }
 },
 "nbformat": 4,
 "nbformat_minor": 5
}
