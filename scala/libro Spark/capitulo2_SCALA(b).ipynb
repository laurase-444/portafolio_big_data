{
 "cells": [
  {
   "cell_type": "code",
   "execution_count": 2,
   "id": "d5f4f88f",
   "metadata": {},
   "outputs": [
    {
     "data": {
      "text/plain": [
       "import org.apache.spark.sql.SparkSession\r\n",
       "import org.apache.spark.sql.functions._\r\n"
      ]
     },
     "execution_count": 2,
     "metadata": {},
     "output_type": "execute_result"
    }
   ],
   "source": [
    "import org.apache.spark.sql.SparkSession\n",
    "import org.apache.spark.sql.functions._"
   ]
  },
  {
   "cell_type": "code",
   "execution_count": 3,
   "id": "2ca8ff04",
   "metadata": {},
   "outputs": [
    {
     "data": {
      "text/plain": [
       "spark: org.apache.spark.sql.SparkSession = org.apache.spark.sql.SparkSession@5f75d5b7\r\n"
      ]
     },
     "execution_count": 3,
     "metadata": {},
     "output_type": "execute_result"
    }
   ],
   "source": [
    " val spark = SparkSession.builder.appName(\"MnMCount\").getOrCreate()"
   ]
  },
  {
   "cell_type": "code",
   "execution_count": 4,
   "id": "e34e9271",
   "metadata": {},
   "outputs": [
    {
     "data": {
      "text/plain": [
       "mnmDF: org.apache.spark.sql.DataFrame = [State: string, Color: string ... 1 more field]\r\n"
      ]
     },
     "execution_count": 4,
     "metadata": {},
     "output_type": "execute_result"
    }
   ],
   "source": [
    "val mnmDF = spark.read.format(\"csv\")\n",
    ".option(\"header\", \"true\")\n",
    ".option(\"inferSchema\", \"true\")\n",
    ".load(\"C:/Users/laura.serrano/Desktop/big_data/spark/LearningSparkV2-master/LearningSparkV2-master/chapter2/scala/data\")"
   ]
  },
  {
   "cell_type": "code",
   "execution_count": 5,
   "id": "11a0615b",
   "metadata": {},
   "outputs": [
    {
     "name": "stdout",
     "output_type": "stream",
     "text": [
      "+-----+------+-----+\n",
      "|State| Color|Count|\n",
      "+-----+------+-----+\n",
      "|   TX|   Red|   20|\n",
      "|   TX| Green|   68|\n",
      "|   TX| Brown|   94|\n",
      "|   TX|Orange|   63|\n",
      "|   TX|Yellow|   29|\n",
      "|   TX|  Blue|   49|\n",
      "|   TX| Green|   69|\n",
      "|   TX|Yellow|   20|\n",
      "|   TX| Green|   85|\n",
      "|   TX|   Red|   97|\n",
      "|   TX| Green|   82|\n",
      "|   TX| Brown|   96|\n",
      "|   TX| Green|   74|\n",
      "|   TX|   Red|   16|\n",
      "|   TX|  Blue|   80|\n",
      "|   TX|  Blue|   68|\n",
      "|   TX|   Red|   13|\n",
      "|   TX| Brown|   55|\n",
      "|   TX|Orange|   93|\n",
      "|   TX|Yellow|   83|\n",
      "+-----+------+-----+\n",
      "only showing top 20 rows\n",
      "\r\n"
     ]
    },
    {
     "data": {
      "text/plain": [
       "ejer4: Unit = ()\r\n"
      ]
     },
     "execution_count": 5,
     "metadata": {},
     "output_type": "execute_result"
    }
   ],
   "source": [
    " val ejer4 = mnmDF.select(\"State\", \"Color\", \"Count\").where(\"State='TX'\").show()"
   ]
  },
  {
   "cell_type": "code",
   "execution_count": 6,
   "id": "d9dcc121",
   "metadata": {},
   "outputs": [
    {
     "data": {
      "text/plain": [
       "ejer5: org.apache.spark.sql.Dataset[org.apache.spark.sql.Row] = [State: string, Color: string ... 1 more field]\r\n"
      ]
     },
     "execution_count": 6,
     "metadata": {},
     "output_type": "execute_result"
    }
   ],
   "source": [
    " val ejer5 = mnmDF.select(\"State\", \"Color\", \"Count\").where(\"State='TX'\").where(\"Count='100'\")"
   ]
  },
  {
   "cell_type": "code",
   "execution_count": 7,
   "id": "04d232f2",
   "metadata": {},
   "outputs": [
    {
     "name": "stdout",
     "output_type": "stream",
     "text": [
      "+-----+------+-----+\n",
      "|State| Color|Count|\n",
      "+-----+------+-----+\n",
      "|   TX|   Red|  100|\n",
      "|   TX|Yellow|  100|\n",
      "|   TX| Brown|  100|\n",
      "|   TX|  Blue|  100|\n",
      "|   TX|Yellow|  100|\n",
      "|   TX|Orange|  100|\n",
      "|   TX|   Red|  100|\n",
      "|   TX|Yellow|  100|\n",
      "|   TX|Yellow|  100|\n",
      "|   TX|Yellow|  100|\n",
      "|   TX|  Blue|  100|\n",
      "|   TX| Green|  100|\n",
      "|   TX|   Red|  100|\n",
      "|   TX| Green|  100|\n",
      "|   TX|Yellow|  100|\n",
      "|   TX|   Red|  100|\n",
      "|   TX|Orange|  100|\n",
      "|   TX| Brown|  100|\n",
      "|   TX|Yellow|  100|\n",
      "|   TX| Green|  100|\n",
      "+-----+------+-----+\n",
      "only showing top 20 rows\n",
      "\r\n"
     ]
    }
   ],
   "source": [
    "ejer5.show()"
   ]
  },
  {
   "cell_type": "code",
   "execution_count": 41,
   "id": "4fa04250",
   "metadata": {},
   "outputs": [
    {
     "data": {
      "text/plain": [
       "res21: Long = 99999\r\n"
      ]
     },
     "execution_count": 41,
     "metadata": {},
     "output_type": "execute_result"
    }
   ],
   "source": [
    "mnmDF.count()"
   ]
  },
  {
   "cell_type": "code",
   "execution_count": 8,
   "id": "ceecb0c8",
   "metadata": {},
   "outputs": [
    {
     "data": {
      "text/plain": [
       "max1: Array[org.apache.spark.sql.Row] = Array([100])\r\n"
      ]
     },
     "execution_count": 8,
     "metadata": {},
     "output_type": "execute_result"
    }
   ],
   "source": [
    "val max1= mnmDF.select(max($\"count\")).take(1)"
   ]
  },
  {
   "cell_type": "code",
   "execution_count": 15,
   "id": "5fece93e",
   "metadata": {},
   "outputs": [
    {
     "data": {
      "text/plain": [
       "ejer3: org.apache.spark.sql.Dataset[org.apache.spark.sql.Row] = [State: string, Color: string ... 3 more fields]\r\n"
      ]
     },
     "execution_count": 15,
     "metadata": {},
     "output_type": "execute_result"
    }
   ],
   "source": [
    " val ejer3 = mnmDF\n",
    " .select(\"State\", \"Color\", \"Count\")\n",
    " .groupBy(\"State\", \"Color\")\n",
    " .agg((max($\"Count\")).alias(\"max\"),(avg($\"Count\")).alias(\"media\"),(min($\"Count\")).alias(\"minimo\")).orderBy(($\"media\").desc) "
   ]
  },
  {
   "cell_type": "code",
   "execution_count": 16,
   "id": "d3c37b91",
   "metadata": {},
   "outputs": [
    {
     "name": "stdout",
     "output_type": "stream",
     "text": [
      "+-----+------+---+------------------+------+\n",
      "|State| Color|max|             media|minimo|\n",
      "+-----+------+---+------------------+------+\n",
      "|   CO| Brown|100| 56.57729468599034|    10|\n",
      "|   WY| Brown|100| 56.20757180156658|    10|\n",
      "|   NM|   Red|100| 56.03491124260355|    10|\n",
      "|   TX|Orange|100|55.880750605326874|    10|\n",
      "|   WA|Yellow|100|  55.8749248346362|    10|\n",
      "|   CA|Yellow|100|  55.8693967902601|    10|\n",
      "|   WA|   Red|100| 55.85397965290245|    10|\n",
      "|   NV| Brown|100| 55.81050090525045|    10|\n",
      "|   WA| Brown|100| 55.77112043139604|    10|\n",
      "|   CA| Brown|100|55.740395809080326|    10|\n",
      "|   WY| Green|100|55.657227138643066|    10|\n",
      "|   CA|  Blue|100| 55.59762944479102|    10|\n",
      "|   UT| Green|100|55.557510999371466|    10|\n",
      "|   NV|   Red|100|  55.4944099378882|    10|\n",
      "|   CO|Orange|100|55.402557856272836|    10|\n",
      "|   NM| Brown|100|55.392412566686424|    10|\n",
      "|   WA|  Blue|100|55.314461538461536|    10|\n",
      "|   TX|   Red|100|55.306666666666665|    10|\n",
      "|   TX| Brown|100| 55.29311395490554|    10|\n",
      "|   CA|   Red|100| 55.26992753623188|    10|\n",
      "+-----+------+---+------------------+------+\n",
      "only showing top 20 rows\n",
      "\r\n"
     ]
    }
   ],
   "source": [
    "ejer3.show()"
   ]
  },
  {
   "cell_type": "code",
   "execution_count": 13,
   "id": "30dc16ed",
   "metadata": {},
   "outputs": [
    {
     "data": {
      "text/plain": [
       "countMnMDF: org.apache.spark.sql.Dataset[org.apache.spark.sql.Row] = [State: string, Color: string ... 1 more field]\r\n"
      ]
     },
     "execution_count": 13,
     "metadata": {},
     "output_type": "execute_result"
    }
   ],
   "source": [
    " val countMnMDF = mnmDF\n",
    " .select(\"State\", \"Color\", \"Count\")\n",
    " .groupBy(\"State\", \"Color\")\n",
    " .agg(count(\"Count\").alias(\"Total\"))\n",
    " .orderBy(desc(\"Total\"))"
   ]
  },
  {
   "cell_type": "code",
   "execution_count": 92,
   "id": "fe8307ba",
   "metadata": {},
   "outputs": [
    {
     "data": {
      "text/plain": [
       "countMnMDF1: org.apache.spark.sql.Dataset[org.apache.spark.sql.Row] = [State: string, Color: string ... 1 more field]\r\n"
      ]
     },
     "execution_count": 92,
     "metadata": {},
     "output_type": "execute_result"
    }
   ],
   "source": [
    " val countMnMDF1 = mnmDF\n",
    " .select(\"State\", \"Color\", \"Count\")\n",
    " .groupBy(\"State\", \"Color\")\n",
    " .sum(\"Count\")\n",
    " .orderBy(desc(\"sum(Count)\"))"
   ]
  },
  {
   "cell_type": "code",
   "execution_count": 93,
   "id": "a9d8abf9",
   "metadata": {},
   "outputs": [
    {
     "name": "stdout",
     "output_type": "stream",
     "text": [
      "+-----+------+----------+\n",
      "|State| Color|sum(Count)|\n",
      "+-----+------+----------+\n",
      "|   CA|Yellow|    100956|\n",
      "|   WA| Green|     96486|\n",
      "|   CA| Brown|     95762|\n",
      "|   TX| Green|     95753|\n",
      "|   TX|   Red|     95404|\n",
      "|   CO|Yellow|     95038|\n",
      "|   NM|   Red|     94699|\n",
      "|   OR|Orange|     94514|\n",
      "|   WY| Green|     94339|\n",
      "|   NV|Orange|     93929|\n",
      "|   TX|Yellow|     93819|\n",
      "|   CO| Green|     93724|\n",
      "|   CO| Brown|     93692|\n",
      "|   CA| Green|     93505|\n",
      "|   NM| Brown|     93447|\n",
      "|   CO|  Blue|     93412|\n",
      "|   WA|   Red|     93332|\n",
      "|   WA| Brown|     93082|\n",
      "|   WA|Yellow|     92920|\n",
      "|   NM|Yellow|     92747|\n",
      "|   NV| Brown|     92478|\n",
      "|   TX|Orange|     92315|\n",
      "|   AZ| Brown|     92287|\n",
      "|   AZ| Green|     91882|\n",
      "|   WY|   Red|     91768|\n",
      "|   AZ|Orange|     91684|\n",
      "|   CA|   Red|     91527|\n",
      "|   WA|Orange|     91521|\n",
      "|   NV|Yellow|     91390|\n",
      "|   UT|Orange|     91341|\n",
      "|   NV| Green|     91331|\n",
      "|   NM|Orange|     91251|\n",
      "|   NM| Green|     91160|\n",
      "|   WY|  Blue|     91002|\n",
      "|   UT|   Red|     90995|\n",
      "|   CO|Orange|     90971|\n",
      "|   AZ|Yellow|     90946|\n",
      "|   TX| Brown|     90736|\n",
      "|   OR|  Blue|     90526|\n",
      "|   CA|Orange|     90311|\n",
      "|   OR|   Red|     90286|\n",
      "|   NM|  Blue|     90150|\n",
      "|   AZ|   Red|     90042|\n",
      "|   NV|  Blue|     90003|\n",
      "|   UT|  Blue|     89977|\n",
      "|   AZ|  Blue|     89971|\n",
      "|   WA|  Blue|     89886|\n",
      "|   OR| Green|     89578|\n",
      "|   CO|   Red|     89465|\n",
      "|   NV|   Red|     89346|\n",
      "|   UT|Yellow|     89264|\n",
      "|   OR| Brown|     89136|\n",
      "|   CA|  Blue|     89123|\n",
      "|   UT| Brown|     88973|\n",
      "|   TX|  Blue|     88466|\n",
      "|   UT| Green|     88392|\n",
      "|   OR|Yellow|     88129|\n",
      "|   WY|Orange|     87956|\n",
      "|   WY|Yellow|     87800|\n",
      "|   WY| Brown|     86110|\n",
      "+-----+------+----------+\n",
      "\r\n"
     ]
    }
   ],
   "source": [
    "countMnMDF1.show(60)"
   ]
  },
  {
   "cell_type": "code",
   "execution_count": 21,
   "id": "1c12cea1",
   "metadata": {},
   "outputs": [
    {
     "name": "stdout",
     "output_type": "stream",
     "text": [
      "+-----+------+-----+\n",
      "|State| Color|Total|\n",
      "+-----+------+-----+\n",
      "|   CA|Yellow| 1807|\n",
      "|   WA| Green| 1779|\n",
      "|   OR|Orange| 1743|\n",
      "|   TX| Green| 1737|\n",
      "|   TX|   Red| 1725|\n",
      "|   CA| Green| 1723|\n",
      "|   CO|Yellow| 1721|\n",
      "|   CA| Brown| 1718|\n",
      "|   CO| Green| 1713|\n",
      "|   NV|Orange| 1712|\n",
      "|   TX|Yellow| 1703|\n",
      "|   NV| Green| 1698|\n",
      "|   AZ| Brown| 1698|\n",
      "|   WY| Green| 1695|\n",
      "|   CO|  Blue| 1695|\n",
      "|   NM|   Red| 1690|\n",
      "|   AZ|Orange| 1689|\n",
      "|   NM|Yellow| 1688|\n",
      "|   NM| Brown| 1687|\n",
      "|   UT|Orange| 1684|\n",
      "|   NM| Green| 1682|\n",
      "|   UT|   Red| 1680|\n",
      "|   AZ| Green| 1676|\n",
      "|   NV|Yellow| 1675|\n",
      "|   NV|  Blue| 1673|\n",
      "|   WA|   Red| 1671|\n",
      "|   WY|   Red| 1670|\n",
      "|   WA| Brown| 1669|\n",
      "|   NM|Orange| 1665|\n",
      "|   WY|  Blue| 1664|\n",
      "|   WA|Yellow| 1663|\n",
      "|   WA|Orange| 1658|\n",
      "|   CA|Orange| 1657|\n",
      "|   NV| Brown| 1657|\n",
      "|   CA|   Red| 1656|\n",
      "|   CO| Brown| 1656|\n",
      "|   UT|  Blue| 1655|\n",
      "|   AZ|Yellow| 1654|\n",
      "|   TX|Orange| 1652|\n",
      "|   AZ|   Red| 1648|\n",
      "|   OR|  Blue| 1646|\n",
      "|   UT|Yellow| 1645|\n",
      "|   OR|   Red| 1645|\n",
      "|   CO|Orange| 1642|\n",
      "|   TX| Brown| 1641|\n",
      "|   NM|  Blue| 1638|\n",
      "|   AZ|  Blue| 1636|\n",
      "|   OR| Green| 1634|\n",
      "|   UT| Brown| 1631|\n",
      "|   WY|Yellow| 1626|\n",
      "|   WA|  Blue| 1625|\n",
      "|   CO|   Red| 1624|\n",
      "|   OR| Brown| 1621|\n",
      "|   TX|  Blue| 1614|\n",
      "|   OR|Yellow| 1614|\n",
      "|   NV|   Red| 1610|\n",
      "|   CA|  Blue| 1603|\n",
      "|   WY|Orange| 1595|\n",
      "|   UT| Green| 1591|\n",
      "|   WY| Brown| 1532|\n",
      "+-----+------+-----+\n",
      "\n",
      "Total Rows = 60\n",
      "\n"
     ]
    }
   ],
   "source": [
    "countMnMDF.show(60)\n",
    " println(s\"Total Rows = ${countMnMDF.count()}\")\n",
    " println()"
   ]
  },
  {
   "cell_type": "code",
   "execution_count": 20,
   "id": "36678913",
   "metadata": {},
   "outputs": [
    {
     "name": "stdout",
     "output_type": "stream",
     "text": [
      "+-----+------+-----+\n",
      "|State| Color|Total|\n",
      "+-----+------+-----+\n",
      "|   CA|Yellow| 1807|\n",
      "|   CA| Green| 1723|\n",
      "|   CA| Brown| 1718|\n",
      "|   CA|Orange| 1657|\n",
      "|   CA|   Red| 1656|\n",
      "|   CA|  Blue| 1603|\n",
      "+-----+------+-----+\n",
      "\r\n"
     ]
    },
    {
     "data": {
      "text/plain": [
       "caCountMnMDF: Unit = ()\r\n"
      ]
     },
     "execution_count": 20,
     "metadata": {},
     "output_type": "execute_result"
    }
   ],
   "source": [
    " val caCountMnMDF = (mnmDF\n",
    " .select(\"State\", \"Color\", \"Count\")\n",
    " .where(col(\"State\") === \"CA\")\n",
    " .groupBy(\"State\", \"Color\")\n",
    " .agg(count(\"Count\").alias(\"Total\"))\n",
    " .orderBy(desc(\"Total\"))).show()"
   ]
  },
  {
   "cell_type": "code",
   "execution_count": 21,
   "id": "7aabaea8",
   "metadata": {},
   "outputs": [
    {
     "name": "stdout",
     "output_type": "stream",
     "text": [
      "+-----+------+-----+\n",
      "|State| Color|Total|\n",
      "+-----+------+-----+\n",
      "|   CA|Yellow| 1807|\n",
      "|   CA| Green| 1723|\n",
      "|   CA| Brown| 1718|\n",
      "|   NV|Orange| 1712|\n",
      "|   NV| Green| 1698|\n",
      "|   NV|Yellow| 1675|\n",
      "|   NV|  Blue| 1673|\n",
      "|   NV| Brown| 1657|\n",
      "|   CA|Orange| 1657|\n",
      "|   CA|   Red| 1656|\n",
      "|   NV|   Red| 1610|\n",
      "|   CA|  Blue| 1603|\n",
      "+-----+------+-----+\n",
      "\r\n"
     ]
    },
    {
     "data": {
      "text/plain": [
       "ca_nv_CountMnMDF: Unit = ()\r\n"
      ]
     },
     "execution_count": 21,
     "metadata": {},
     "output_type": "execute_result"
    }
   ],
   "source": [
    " val ca_nv_CountMnMDF = (mnmDF\n",
    " .select(\"State\", \"Color\", \"Count\")\n",
    " .where((col(\"State\") === \"CA\") || (col(\"State\") === \"NV\") )\n",
    " .groupBy(\"State\", \"Color\")\n",
    " .agg(count(\"Count\").alias(\"Total\"))\n",
    " .orderBy(desc(\"Total\"))).show()"
   ]
  },
  {
   "cell_type": "code",
   "execution_count": 22,
   "id": "3fd981a1",
   "metadata": {},
   "outputs": [],
   "source": [
    "spark.stop()"
   ]
  }
 ],
 "metadata": {
  "kernelspec": {
   "display_name": "spylon-kernel",
   "language": "scala",
   "name": "spylon-kernel"
  },
  "language_info": {
   "codemirror_mode": "text/x-scala",
   "file_extension": ".scala",
   "help_links": [
    {
     "text": "MetaKernel Magics",
     "url": "https://metakernel.readthedocs.io/en/latest/source/README.html"
    }
   ],
   "mimetype": "text/x-scala",
   "name": "scala",
   "pygments_lexer": "scala",
   "version": "0.4.1"
  }
 },
 "nbformat": 4,
 "nbformat_minor": 5
}
