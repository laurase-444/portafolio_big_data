{
 "cells": [
  {
   "cell_type": "code",
   "execution_count": 1,
   "id": "6f9441f0",
   "metadata": {},
   "outputs": [],
   "source": [
    "from pyspark.sql import SparkSession\n",
    "\n",
    "spark = (SparkSession\n",
    "        .builder\n",
    "        .appName(\"PythonMnMCount\")\n",
    "        .getOrCreate())"
   ]
  },
  {
   "cell_type": "code",
   "execution_count": 4,
   "id": "a13b17e0",
   "metadata": {},
   "outputs": [
    {
     "name": "stdout",
     "output_type": "stream",
     "text": [
      "root\n",
      " |-- Month: integer (nullable = true)\n",
      " |-- DayofMonth: integer (nullable = true)\n",
      " |-- DayOfWeek: integer (nullable = true)\n",
      " |-- FlightDate: string (nullable = true)\n",
      " |-- Origin: string (nullable = true)\n",
      " |-- OriginCity: string (nullable = true)\n",
      " |-- Dest: string (nullable = true)\n",
      " |-- DestCity: string (nullable = true)\n",
      " |-- DepTime: integer (nullable = true)\n",
      " |-- DepDelay: double (nullable = true)\n",
      " |-- ArrTime: integer (nullable = true)\n",
      " |-- ArrDelay: string (nullable = true)\n",
      " |-- Cancelled: double (nullable = true)\n",
      " |-- CancellationCode: string (nullable = true)\n",
      " |-- Diverted: double (nullable = true)\n",
      " |-- ActualElapsedTime: double (nullable = true)\n",
      " |-- AirTime: double (nullable = true)\n",
      " |-- Distance: double (nullable = true)\n",
      " |-- CarrierDelay: double (nullable = true)\n",
      " |-- WeatherDelay: double (nullable = true)\n",
      " |-- NASDelay: double (nullable = true)\n",
      " |-- SecurityDelay: double (nullable = true)\n",
      " |-- LateAircraftDelay: double (nullable = true)\n",
      "\n"
     ]
    }
   ],
   "source": [
    "from pyspark.sql import functions as F\n",
    "\n",
    "flightsDF = spark.read\\\n",
    "                 .option(\"header\", \"true\")\\\n",
    "                 .option(\"inferSchema\", \"true\")\\\n",
    "                 .csv(\"C:/Users/laura.serrano/Desktop/flights-jan-apr-2018.csv\") \n",
    "flightsDF = flightsDF.withColumn(\"ArrDelay\",\\\n",
    "                                 F.when(F.rand(seed = 123) < 0.1, \"NA\").otherwise(F.col(\"ArrDelay\")))\n",
    "\n",
    "flightsDF.printSchema()"
   ]
  },
  {
   "cell_type": "code",
   "execution_count": 5,
   "id": "5dad424f",
   "metadata": {},
   "outputs": [
    {
     "name": "stdout",
     "output_type": "stream",
     "text": [
      "Los datos tienen 23 columnas\n",
      "Los datos tienen 2503113 filas\n"
     ]
    }
   ],
   "source": [
    "# Extraemos los nombres de columna. Esto son solo metadatos de DataFrame, y están en el driver. No es necesaria ninguna\n",
    "# operación sobre el cluster para recuperar la variable interna columns de cualquier DataFrame\n",
    "print(\"Los datos tienen {0} columnas\".format(len(flightsDF.columns)))\n",
    "\n",
    "flightsDF.cache()        # Esta línea no hace cálculos, pero Spark anota que debe mantener este DF en memoria tras la primera vez que sea materializado\n",
    "rows = flightsDF.count() # Esto es una acción que obligará a que flightsDF sea materializado. Para ello, habrá que llevar a cabo\n",
    "                         # las transformaciones que lo generan en la celda anterior: read y withColumn, que están pendientes\n",
    "\n",
    "print(\"Los datos tienen {0} filas\".format(rows))"
   ]
  },
  {
   "cell_type": "code",
   "execution_count": 6,
   "id": "cc54d478",
   "metadata": {},
   "outputs": [],
   "source": [
    "#Seleccionar columnas por nombre"
   ]
  },
  {
   "cell_type": "code",
   "execution_count": 7,
   "id": "5c352ed1",
   "metadata": {},
   "outputs": [
    {
     "name": "stdout",
     "output_type": "stream",
     "text": [
      "+-----+----------+-------+\n",
      "|Month|DayofMonth|ArrTime|\n",
      "+-----+----------+-------+\n",
      "|    1|        14|   null|\n",
      "|    1|         3|   1506|\n",
      "|    1|         6|   1543|\n",
      "|    1|         7|   1455|\n",
      "|    1|         8|   1509|\n",
      "|    1|         9|   1504|\n",
      "|    1|        10|   1455|\n",
      "|    1|        11|   1452|\n",
      "|    1|        12|   1748|\n",
      "|    1|        13|   1514|\n",
      "|    1|        15|   1456|\n",
      "|    1|        16|   1511|\n",
      "|    1|        17|   1622|\n",
      "|    1|        18|   1509|\n",
      "|    1|        19|   1449|\n",
      "|    1|        20|   1533|\n",
      "|    1|        21|   1508|\n",
      "|    1|        22|   1504|\n",
      "|    1|        23|   1616|\n",
      "|    1|        24|   1515|\n",
      "+-----+----------+-------+\n",
      "only showing top 20 rows\n",
      "\n"
     ]
    }
   ],
   "source": [
    "flightsDF.select(\"Month\", \"DayofMonth\", \"ArrTime\")\\\n",
    "         .show() # los nombres son sensibles a mayúsculas"
   ]
  },
  {
   "cell_type": "code",
   "execution_count": 8,
   "id": "fb247a72",
   "metadata": {},
   "outputs": [],
   "source": [
    "#Filtramos (retenemos) filas en base a los valores de una o varias columnas"
   ]
  },
  {
   "cell_type": "code",
   "execution_count": 9,
   "id": "31e79966",
   "metadata": {},
   "outputs": [],
   "source": [
    "# La función col se utiliza para decir que nos estamos refiriendo a la columna cuyo nombre se pasa como argumento\n",
    "\n",
    "flightsJanuary20 = flightsDF\\\n",
    "                      .where((F.col(\"DayofMonth\") == 20) & (F.col(\"Month\") == 1))\\\n",
    "                      .select(\"Month\", \"ArrTime\") # encadenamos dos transformaciones: esto no desencadena ninguna operación"
   ]
  },
  {
   "cell_type": "code",
   "execution_count": 11,
   "id": "3f30795b",
   "metadata": {},
   "outputs": [
    {
     "name": "stdout",
     "output_type": "stream",
     "text": [
      "Hubo 16176 vuelos el 20 de enero de 2018\n",
      "+-----+-------+\n",
      "|Month|ArrTime|\n",
      "+-----+-------+\n",
      "|    1|   1533|\n",
      "|    1|   1734|\n",
      "|    1|   2025|\n",
      "+-----+-------+\n",
      "only showing top 3 rows\n",
      "\n"
     ]
    }
   ],
   "source": [
    "# Cúantos vuelos hay el 20 de enero de 2018\n",
    "# La operación count() es una acción, así que obliga a materializar flightsJanuary20. Para ello es necesario ejecutar\n",
    "# las transformaciones where() y select() que pusimos en esta celda, aplicadas a flightsDF. De hecho, si no hubiésemos\n",
    "# cacheado flightsDF en las celdas anteriores, también habría que materializarlo otra vez, y para eso se leería de \n",
    "# nuevo el CSV desde HDFS\n",
    "rowsJanuary20 = flightsJanuary20.count()\n",
    "\n",
    "print(\"Hubo {0} vuelos el 20 de enero de 2018\".format(rowsJanuary20))\n",
    "\n",
    "# Esto es otra acción aplicada sobre el DataFrame flightsJanuary. Como flightsJanuary NO ha sido cacheado,\n",
    "# entonces las operaciones \"where\" y \"select\" se necesitan ejecutar DE NUEVO para poder hacer el show()\n",
    "flightsJanuary20.show(3)"
   ]
  },
  {
   "cell_type": "code",
   "execution_count": 12,
   "id": "e4365197",
   "metadata": {},
   "outputs": [
    {
     "data": {
      "text/plain": [
       "20519"
      ]
     },
     "execution_count": 12,
     "metadata": {},
     "output_type": "execute_result"
    }
   ],
   "source": [
    "# También podemos indicar el filtrado como un string con un trozo de código SQL\n",
    "# Recordemos que where y filter son exactamente equivalentes\n",
    "flightsJanuary31 = flightsDF.filter(\"DayofMonth = 31 and Month = 1\")\n",
    "# transformación filter: Spark no ejecuta nada\n",
    "\n",
    "flightsJanuary31.count() \n",
    "# acción count: obliga a materializar flightsJanuary31 para lo cual se tiene que ejecutar filter"
   ]
  },
  {
   "cell_type": "code",
   "execution_count": 13,
   "id": "feaf23ac",
   "metadata": {},
   "outputs": [],
   "source": [
    "# muestra por pantalla el retraso en la llegada, el aeropuerto de origen y de destino de aquellos vuelos que tuvieron lugar en Domingo y con un retraso a la llegada mayor de 15 minutos. Muestra el esquema de dicho DataFrame resultante."
   ]
  },
  {
   "cell_type": "code",
   "execution_count": 15,
   "id": "e4614c70",
   "metadata": {},
   "outputs": [
    {
     "name": "stdout",
     "output_type": "stream",
     "text": [
      "+------+----+--------+\n",
      "|Origin|Dest|ArrDelay|\n",
      "+------+----+--------+\n",
      "|   BOS| BUF|    21.0|\n",
      "|   BOS| JFK|    16.0|\n",
      "|   LGA| MSN|    22.0|\n",
      "|   BOS| JFK|   136.0|\n",
      "|   DTW| JFK|   119.0|\n",
      "|   CVG| DTW|    90.0|\n",
      "|   GNV| ATL|    61.0|\n",
      "|   ATL| SHV|    48.0|\n",
      "|   MSP| EWR|   158.0|\n",
      "|   LAS| FLL|    17.0|\n",
      "|   MCO| BOS|   238.0|\n",
      "|   BOS| FLL|    61.0|\n",
      "|   SLC| JFK|    34.0|\n",
      "|   JFK| PWM|    80.0|\n",
      "|   MCO| EWR|    23.0|\n",
      "|   OAK| JFK|    19.0|\n",
      "|   SJU| BDL|    63.0|\n",
      "|   LGB| LAS|    29.0|\n",
      "|   LAX| JFK|    50.0|\n",
      "|   JFK| MCO|    61.0|\n",
      "+------+----+--------+\n",
      "only showing top 20 rows\n",
      "\n"
     ]
    }
   ],
   "source": [
    "flightsDF.select(\"Origin\", \"Dest\",\"ArrDelay\")\\\n",
    "        .where((F.col(\"DayofWeek\") == 7) & (F.col(\"ArrDelay\") > 15)).show()"
   ]
  },
  {
   "cell_type": "code",
   "execution_count": 16,
   "id": "a1d5a8aa",
   "metadata": {},
   "outputs": [],
   "source": [
    "#SELECCIONAR FILAS ÚNICAS"
   ]
  },
  {
   "cell_type": "code",
   "execution_count": 17,
   "id": "ed29b704",
   "metadata": {},
   "outputs": [
    {
     "name": "stdout",
     "output_type": "stream",
     "text": [
      "Hay 2483880 filas distintas\n"
     ]
    }
   ],
   "source": [
    "distinctFlights = flightsDF.distinct()  \n",
    "# distinct es una transformación que devuelve el DF sin las filas repetidas\n",
    "distinctFlightsCount = distinctFlights.count() \n",
    "# count es una acción y provoca que se ejecute la transformación distinct\n",
    "\n",
    "print(\"Hay {0} filas distintas\".format(distinctFlightsCount))"
   ]
  },
  {
   "cell_type": "code",
   "execution_count": 18,
   "id": "a7d6a9bc",
   "metadata": {},
   "outputs": [],
   "source": [
    "# ¿cuántas combinaciones de Origin y Dest existen?"
   ]
  },
  {
   "cell_type": "code",
   "execution_count": 22,
   "id": "18e501fd",
   "metadata": {},
   "outputs": [
    {
     "data": {
      "text/plain": [
       "5795"
      ]
     },
     "execution_count": 22,
     "metadata": {},
     "output_type": "execute_result"
    }
   ],
   "source": [
    "distinctFlights.select(\"Origin\",\"Dest\").distinct().count()"
   ]
  },
  {
   "cell_type": "code",
   "execution_count": null,
   "id": "79f86ad6",
   "metadata": {},
   "outputs": [],
   "source": [
    "#otra forma de hacerlo"
   ]
  },
  {
   "cell_type": "code",
   "execution_count": 32,
   "id": "976cbbfa",
   "metadata": {},
   "outputs": [
    {
     "name": "stdout",
     "output_type": "stream",
     "text": [
      "+----------------------------+\n",
      "|count(DISTINCT Origin, Dest)|\n",
      "+----------------------------+\n",
      "|                        5795|\n",
      "+----------------------------+\n",
      "\n"
     ]
    }
   ],
   "source": [
    "from pyspark.sql.functions import countDistinct\n",
    "distinctFlights.select(countDistinct(\"Origin\",\"Dest\")).show()"
   ]
  },
  {
   "cell_type": "code",
   "execution_count": 33,
   "id": "023dde91",
   "metadata": {},
   "outputs": [],
   "source": [
    "#¿cuántos aeropuertos de origen existen?"
   ]
  },
  {
   "cell_type": "code",
   "execution_count": 34,
   "id": "c1258394",
   "metadata": {},
   "outputs": [
    {
     "data": {
      "text/plain": [
       "356"
      ]
     },
     "execution_count": 34,
     "metadata": {},
     "output_type": "execute_result"
    }
   ],
   "source": [
    "distinctFlights.select(\"Origin\").distinct().count()"
   ]
  },
  {
   "cell_type": "code",
   "execution_count": 35,
   "id": "f41ec2bf",
   "metadata": {},
   "outputs": [],
   "source": [
    "#vamos a hacer esto para cada columna, en un bucle, para hacernos a la idea de cuántos valores hay.\n",
    "#Esto solo tiene sentido en realidad para columnas categóricas y no para numéricas donde casi todos los valores serán distintos."
   ]
  },
  {
   "cell_type": "code",
   "execution_count": 36,
   "id": "c8d55938",
   "metadata": {},
   "outputs": [
    {
     "name": "stdout",
     "output_type": "stream",
     "text": [
      "+-----+----------+---------+----------+------+----------+----+--------+-------+--------+-------+--------+---------+----------------+--------+-----------------+-------+--------+------------+------------+--------+-------------+-----------------+\n",
      "|Month|DayofMonth|DayOfWeek|FlightDate|Origin|OriginCity|Dest|DestCity|DepTime|DepDelay|ArrTime|ArrDelay|Cancelled|CancellationCode|Diverted|ActualElapsedTime|AirTime|Distance|CarrierDelay|WeatherDelay|NASDelay|SecurityDelay|LateAircraftDelay|\n",
      "+-----+----------+---------+----------+------+----------+----+--------+-------+--------+-------+--------+---------+----------------+--------+-----------------+-------+--------+------------+------------+--------+-------------+-----------------+\n",
      "|    4|        31|        7|       120|   356|       350| 356|     350|   1440|    1378|   1440|    1379|        2|               5|       2|              705|    669|    1466|        1094|         748|     609|          128|              739|\n",
      "+-----+----------+---------+----------+------+----------+----+--------+-------+--------+-------+--------+---------+----------------+--------+-----------------+-------+--------+------------+------------+--------+-------------+-----------------+\n",
      "\n"
     ]
    }
   ],
   "source": [
    "#defino la funcion\n",
    "def dfConteos(sparkDF):\n",
    "    colsRecuento = [F.countDistinct(c).alias(c) for c in sparkDF.columns]\n",
    "    return sparkDF.select(colsRecuento)\n",
    "\n",
    "conteosDF = dfConteos(flightsDF)\n",
    "conteosDF.show()"
   ]
  },
  {
   "cell_type": "code",
   "execution_count": 45,
   "id": "69fda5a9",
   "metadata": {},
   "outputs": [
    {
     "name": "stdout",
     "output_type": "stream",
     "text": [
      "Existen Row(Month=4) valores distintos en la columna Month\n",
      "Existen Row(DayofMonth=31) valores distintos en la columna DayofMonth\n",
      "Existen Row(DayOfWeek=7) valores distintos en la columna DayOfWeek\n",
      "Existen Row(FlightDate=120) valores distintos en la columna FlightDate\n",
      "Existen Row(Origin=356) valores distintos en la columna Origin\n",
      "Existen Row(OriginCity=350) valores distintos en la columna OriginCity\n",
      "Existen Row(Dest=356) valores distintos en la columna Dest\n",
      "Existen Row(DestCity=350) valores distintos en la columna DestCity\n",
      "Existen Row(DepTime=1440) valores distintos en la columna DepTime\n",
      "Existen Row(DepDelay=1378) valores distintos en la columna DepDelay\n",
      "Existen Row(ArrTime=1440) valores distintos en la columna ArrTime\n",
      "Existen Row(ArrDelay=1379) valores distintos en la columna ArrDelay\n",
      "Existen Row(Cancelled=2) valores distintos en la columna Cancelled\n",
      "Existen Row(CancellationCode=5) valores distintos en la columna CancellationCode\n",
      "Existen Row(Diverted=2) valores distintos en la columna Diverted\n",
      "Existen Row(ActualElapsedTime=705) valores distintos en la columna ActualElapsedTime\n",
      "Existen Row(AirTime=669) valores distintos en la columna AirTime\n",
      "Existen Row(Distance=1466) valores distintos en la columna Distance\n",
      "Existen Row(CarrierDelay=1094) valores distintos en la columna CarrierDelay\n",
      "Existen Row(WeatherDelay=748) valores distintos en la columna WeatherDelay\n",
      "Existen Row(NASDelay=609) valores distintos en la columna NASDelay\n",
      "Existen Row(SecurityDelay=128) valores distintos en la columna SecurityDelay\n",
      "Existen Row(LateAircraftDelay=739) valores distintos en la columna LateAircraftDelay\n"
     ]
    }
   ],
   "source": [
    "from pyspark.sql.functions import udf\n",
    "for columnName in conteosDF.columns:\n",
    "\n",
    "    distinctValues = conteosDF.select(columnName).first()\n",
    "    \n",
    "    # No olvidéis indentar este comando para indicar que está dentro del cuerpo del bucle\n",
    "    print(\"Existen {0} valores distintos en la columna {1}\".format(distinctValues, columnName))"
   ]
  },
  {
   "cell_type": "code",
   "execution_count": 43,
   "id": "5c3658d0",
   "metadata": {},
   "outputs": [
    {
     "name": "stdout",
     "output_type": "stream",
     "text": [
      "Existen 4 valores distintos en la columna Month\n",
      "Existen 31 valores distintos en la columna DayofMonth\n",
      "Existen 7 valores distintos en la columna DayOfWeek\n",
      "Existen 120 valores distintos en la columna FlightDate\n",
      "Existen 356 valores distintos en la columna Origin\n",
      "Existen 350 valores distintos en la columna OriginCity\n",
      "Existen 356 valores distintos en la columna Dest\n",
      "Existen 350 valores distintos en la columna DestCity\n",
      "Existen 1441 valores distintos en la columna DepTime\n",
      "Existen 1379 valores distintos en la columna DepDelay\n",
      "Existen 1441 valores distintos en la columna ArrTime\n",
      "Existen 1380 valores distintos en la columna ArrDelay\n",
      "Existen 2 valores distintos en la columna Cancelled\n",
      "Existen 6 valores distintos en la columna CancellationCode\n",
      "Existen 2 valores distintos en la columna Diverted\n",
      "Existen 706 valores distintos en la columna ActualElapsedTime\n",
      "Existen 670 valores distintos en la columna AirTime\n",
      "Existen 1466 valores distintos en la columna Distance\n",
      "Existen 1095 valores distintos en la columna CarrierDelay\n",
      "Existen 749 valores distintos en la columna WeatherDelay\n",
      "Existen 610 valores distintos en la columna NASDelay\n",
      "Existen 129 valores distintos en la columna SecurityDelay\n",
      "Existen 740 valores distintos en la columna LateAircraftDelay\n"
     ]
    }
   ],
   "source": [
    "for columnName in flightsDF.columns:\n",
    "\n",
    "    distinctValues = flightsDF.select(columnName).distinct().count()\n",
    "    \n",
    "    # No olvidéis indentar este comando para indicar que está dentro del cuerpo del bucle\n",
    "    print(\"Existen {0} valores distintos en la columna {1}\".format(distinctValues, columnName))"
   ]
  },
  {
   "cell_type": "code",
   "execution_count": 46,
   "id": "64f9aa38",
   "metadata": {},
   "outputs": [],
   "source": [
    "# Crear una nueva columna o reemplazar una existente por el resultado de operar con columnas existentes"
   ]
  },
  {
   "cell_type": "code",
   "execution_count": 47,
   "id": "7deec5fd",
   "metadata": {},
   "outputs": [
    {
     "name": "stdout",
     "output_type": "stream",
     "text": [
      "root\n",
      " |-- Month: integer (nullable = true)\n",
      " |-- DayofMonth: integer (nullable = true)\n",
      " |-- DayOfWeek: integer (nullable = true)\n",
      " |-- FlightDate: string (nullable = true)\n",
      " |-- Origin: string (nullable = true)\n",
      " |-- OriginCity: string (nullable = true)\n",
      " |-- Dest: string (nullable = true)\n",
      " |-- DestCity: string (nullable = true)\n",
      " |-- DepTime: integer (nullable = true)\n",
      " |-- DepDelay: double (nullable = true)\n",
      " |-- ArrTime: integer (nullable = true)\n",
      " |-- ArrDelay: string (nullable = true)\n",
      " |-- Cancelled: double (nullable = true)\n",
      " |-- CancellationCode: string (nullable = true)\n",
      " |-- Diverted: double (nullable = true)\n",
      " |-- ActualElapsedTime: double (nullable = true)\n",
      " |-- AirTime: double (nullable = true)\n",
      " |-- Distance: double (nullable = true)\n",
      " |-- CarrierDelay: double (nullable = true)\n",
      " |-- WeatherDelay: double (nullable = true)\n",
      " |-- NASDelay: double (nullable = true)\n",
      " |-- SecurityDelay: double (nullable = true)\n",
      " |-- LateAircraftDelay: double (nullable = true)\n",
      " |-- DistanceKm: double (nullable = true)\n",
      "\n",
      "+-----+----------+---------+----------+------+------------+----+------------+-------+--------+-------+--------+---------+----------------+--------+-----------------+-------+--------+------------+------------+--------+-------------+-----------------+------------------+\n",
      "|Month|DayofMonth|DayOfWeek|FlightDate|Origin|  OriginCity|Dest|    DestCity|DepTime|DepDelay|ArrTime|ArrDelay|Cancelled|CancellationCode|Diverted|ActualElapsedTime|AirTime|Distance|CarrierDelay|WeatherDelay|NASDelay|SecurityDelay|LateAircraftDelay|        DistanceKm|\n",
      "+-----+----------+---------+----------+------+------------+----+------------+-------+--------+-------+--------+---------+----------------+--------+-----------------+-------+--------+------------+------------+--------+-------------+-----------------+------------------+\n",
      "|    1|        14|        7|2018-01-14|   SYR|Syracuse, NY| DTW| Detroit, MI|   null|    null|   null|    null|      1.0|               B|     0.0|             null|   null|   374.0|        null|        null|    null|         null|             null|            602.14|\n",
      "|    1|         3|        3|2018-01-03|   SYR|Syracuse, NY| LGA|New York, NY|   1348|   -10.0|   1506|   -13.0|      0.0|            null|     0.0|             78.0|   42.0|   198.0|        null|        null|    null|         null|             null|318.78000000000003|\n",
      "|    1|         6|        6|2018-01-06|   SYR|Syracuse, NY| LGA|New York, NY|   1410|    12.0|   1543|    24.0|      0.0|            null|     0.0|             93.0|   45.0|   198.0|        12.0|         0.0|    12.0|          0.0|              0.0|318.78000000000003|\n",
      "+-----+----------+---------+----------+------+------------+----+------------+-------+--------+-------+--------+---------+----------------+--------+-----------------+-------+--------+------------+------------+--------+-------------+-----------------+------------------+\n",
      "only showing top 3 rows\n",
      "\n"
     ]
    }
   ],
   "source": [
    "# withColumn is a transformation returing a new DataFrame with one extra column appended on the right\n",
    "flightsWithKm = flightsDF.withColumn(\"DistanceKm\", F.col(\"Distance\") * 1.61)\n",
    "\n",
    "flightsWithKm.printSchema()\n",
    "\n",
    "flightsWithKm.show(3)"
   ]
  },
  {
   "cell_type": "code",
   "execution_count": 48,
   "id": "3ea8b4ce",
   "metadata": {
    "scrolled": true
   },
   "outputs": [
    {
     "name": "stdout",
     "output_type": "stream",
     "text": [
      "root\n",
      " |-- Month: integer (nullable = true)\n",
      " |-- DayofMonth: integer (nullable = true)\n",
      " |-- DayOfWeek: string (nullable = false)\n",
      " |-- FlightDate: string (nullable = true)\n",
      " |-- Origin: string (nullable = true)\n",
      " |-- OriginCity: string (nullable = true)\n",
      " |-- Dest: string (nullable = true)\n",
      " |-- DestCity: string (nullable = true)\n",
      " |-- DepTime: integer (nullable = true)\n",
      " |-- DepDelay: double (nullable = true)\n",
      " |-- ArrTime: integer (nullable = true)\n",
      " |-- ArrDelay: string (nullable = true)\n",
      " |-- Cancelled: double (nullable = true)\n",
      " |-- CancellationCode: string (nullable = true)\n",
      " |-- Diverted: double (nullable = true)\n",
      " |-- ActualElapsedTime: double (nullable = true)\n",
      " |-- AirTime: double (nullable = true)\n",
      " |-- Distance: double (nullable = true)\n",
      " |-- CarrierDelay: double (nullable = true)\n",
      " |-- WeatherDelay: double (nullable = true)\n",
      " |-- NASDelay: double (nullable = true)\n",
      " |-- SecurityDelay: double (nullable = true)\n",
      " |-- LateAircraftDelay: double (nullable = true)\n",
      "\n",
      "+---------+-------+-------+\n",
      "|DayOfWeek|DepTime|ArrTime|\n",
      "+---------+-------+-------+\n",
      "|   Sunday|   null|   null|\n",
      "|Wednesday|   1348|   1506|\n",
      "| Saturday|   1410|   1543|\n",
      "|   Sunday|   1347|   1455|\n",
      "|   Monday|   1350|   1509|\n",
      "|  Tuesday|   1351|   1504|\n",
      "|Wednesday|   1347|   1455|\n",
      "| Thursday|   1345|   1452|\n",
      "|   Friday|   1640|   1748|\n",
      "| Saturday|   1338|   1514|\n",
      "|   Monday|   1353|   1456|\n",
      "|  Tuesday|   1357|   1511|\n",
      "|Wednesday|   1526|   1622|\n",
      "| Thursday|   1354|   1509|\n",
      "|   Friday|   1344|   1449|\n",
      "| Saturday|   1433|   1533|\n",
      "|   Sunday|   1353|   1508|\n",
      "|   Monday|   1354|   1504|\n",
      "|  Tuesday|   1501|   1616|\n",
      "|Wednesday|   1355|   1515|\n",
      "+---------+-------+-------+\n",
      "only showing top 20 rows\n",
      "\n"
     ]
    }
   ],
   "source": [
    "flightsCategoricalDay = flightsDF.withColumn(\"DayOfWeek\", F.when(F.col(\"DayOfWeek\") == 1, \"Monday\")\\\n",
    "                                                           .when(F.col(\"DayOfWeek\") == 2, \"Tuesday\")\\\n",
    "                                                           .when(F.col(\"DayOfWeek\") == 3, \"Wednesday\")\\\n",
    "                                                           .when(F.col(\"DayOfWeek\") == 4, \"Thursday\")\\\n",
    "                                                           .when(F.col(\"DayOfWeek\") == 5, \"Friday\")\\\n",
    "                                                           .when(F.col(\"DayOfWeek\") == 6, \"Saturday\")\\\n",
    "                                                           .otherwise(\"Sunday\"))\n",
    "\n",
    "flightsCategoricalDay.printSchema() # the column is still in the same position but has now string type\n",
    "\n",
    "flightsCategoricalDay.select(\"DayOfWeek\", \"DepTime\", \"ArrTime\").show()"
   ]
  },
  {
   "cell_type": "code",
   "execution_count": null,
   "id": "b9d2d773",
   "metadata": {},
   "outputs": [],
   "source": [
    "#SI EL NOMBRE DE LA COLUMNA PASADA COMO PRIEMR PARAMETRO EN WITHCOLUMN ES EL MISMO \n",
    "#DE UNA YA EXISTENTE REEMPALZA EL VALOR SIN CREA OTRO"
   ]
  },
  {
   "cell_type": "code",
   "execution_count": 49,
   "id": "66706621",
   "metadata": {},
   "outputs": [
    {
     "name": "stdout",
     "output_type": "stream",
     "text": [
      "root\n",
      " |-- Month: integer (nullable = true)\n",
      " |-- DayofMonth: integer (nullable = true)\n",
      " |-- DayOfWeek: integer (nullable = true)\n",
      " |-- FlightDate: string (nullable = true)\n",
      " |-- Origin: string (nullable = true)\n",
      " |-- OriginCity: string (nullable = true)\n",
      " |-- Dest: string (nullable = true)\n",
      " |-- DestCity: string (nullable = true)\n",
      " |-- DepTime: integer (nullable = true)\n",
      " |-- DepDelay: double (nullable = true)\n",
      " |-- ArrTime: integer (nullable = true)\n",
      " |-- ArrDelay: string (nullable = true)\n",
      " |-- Cancelled: double (nullable = true)\n",
      " |-- CancellationCode: string (nullable = true)\n",
      " |-- Diverted: double (nullable = true)\n",
      " |-- ActualElapsedTime: double (nullable = true)\n",
      " |-- AirTime: double (nullable = true)\n",
      " |-- Distance: double (nullable = true)\n",
      " |-- CarrierDelay: double (nullable = true)\n",
      " |-- WeatherDelay: double (nullable = true)\n",
      " |-- NASDelay: double (nullable = true)\n",
      " |-- SecurityDelay: double (nullable = true)\n",
      " |-- LateAircraftDelay: double (nullable = true)\n",
      " |-- Laborable: string (nullable = false)\n",
      "\n",
      "+---------+---------+\n",
      "|DayOfWeek|Laborable|\n",
      "+---------+---------+\n",
      "|        7|    Finde|\n",
      "|        3|Laborable|\n",
      "|        6|    Finde|\n",
      "|        7|    Finde|\n",
      "|        1|Laborable|\n",
      "|        2|Laborable|\n",
      "|        3|Laborable|\n",
      "|        4|Laborable|\n",
      "|        5|Laborable|\n",
      "|        6|    Finde|\n",
      "|        1|Laborable|\n",
      "|        2|Laborable|\n",
      "|        3|Laborable|\n",
      "|        4|Laborable|\n",
      "|        5|Laborable|\n",
      "|        6|    Finde|\n",
      "|        7|    Finde|\n",
      "|        1|Laborable|\n",
      "|        2|Laborable|\n",
      "|        3|Laborable|\n",
      "+---------+---------+\n",
      "only showing top 20 rows\n",
      "\n"
     ]
    }
   ],
   "source": [
    "flightsFindeLaborable = flightsDF.withColumn(\"Laborable\", F.when(F.col(\"DayOfWeek\")<=5, \"Laborable\")\\\n",
    "                                             .otherwise(\"Finde\"))\n",
    "flightsFindeLaborable.printSchema()\n",
    "flightsFindeLaborable.select(\"DayOfWeek\", \"Laborable\").show()"
   ]
  },
  {
   "cell_type": "code",
   "execution_count": 50,
   "id": "3d2517b5",
   "metadata": {},
   "outputs": [],
   "source": [
    "#CREAR Y SELECCIONAR COLUMNAS AL VUELO"
   ]
  },
  {
   "cell_type": "code",
   "execution_count": 51,
   "id": "bfc400bd",
   "metadata": {},
   "outputs": [
    {
     "name": "stdout",
     "output_type": "stream",
     "text": [
      "+------+----+----------+\n",
      "|Origin|Dest|DistanceKm|\n",
      "+------+----+----------+\n",
      "|   SYR| DTW|     598.4|\n",
      "|   SYR| LGA|     316.8|\n",
      "|   SYR| LGA|     316.8|\n",
      "|   SYR| LGA|     316.8|\n",
      "|   SYR| LGA|     316.8|\n",
      "|   SYR| LGA|     316.8|\n",
      "|   SYR| LGA|     316.8|\n",
      "|   SYR| LGA|     316.8|\n",
      "|   SYR| LGA|     316.8|\n",
      "|   SYR| LGA|     316.8|\n",
      "|   SYR| LGA|     316.8|\n",
      "|   SYR| LGA|     316.8|\n",
      "|   SYR| LGA|     316.8|\n",
      "|   SYR| LGA|     316.8|\n",
      "|   SYR| LGA|     316.8|\n",
      "|   SYR| LGA|     316.8|\n",
      "|   SYR| LGA|     316.8|\n",
      "|   SYR| LGA|     316.8|\n",
      "|   SYR| LGA|     316.8|\n",
      "|   SYR| LGA|     316.8|\n",
      "+------+----+----------+\n",
      "only showing top 20 rows\n",
      "\n"
     ]
    }
   ],
   "source": [
    "flightsDF.selectExpr(\"Origin\", \"Dest\", \"1.6*Distance AS DistanceKm\").show()"
   ]
  },
  {
   "cell_type": "code",
   "execution_count": 52,
   "id": "23d9b38f",
   "metadata": {},
   "outputs": [],
   "source": [
    "# crear un DataFrame con tres columnas seleccionando \"Origin\", \n",
    "# \"OriginCity\" y una nueva columna de tipo string creada concatenando Origin\n",
    "#y OriginCity con un guión \"-\". Utilizar `withColumn` y dentro la función \n",
    "#`concat_ws` (concatenar con separador) con sintaxis \n",
    "#F.concat_ws(\"-\", columna1, columna2) del paquete pyspark.sql.functions."
   ]
  },
  {
   "cell_type": "code",
   "execution_count": 54,
   "id": "b96832d2",
   "metadata": {},
   "outputs": [
    {
     "name": "stdout",
     "output_type": "stream",
     "text": [
      "+------+------------+----------------+\n",
      "|Origin|  OriginCity|          Concat|\n",
      "+------+------------+----------------+\n",
      "|   SYR|Syracuse, NY|SYR-Syracuse, NY|\n",
      "|   SYR|Syracuse, NY|SYR-Syracuse, NY|\n",
      "|   SYR|Syracuse, NY|SYR-Syracuse, NY|\n",
      "|   SYR|Syracuse, NY|SYR-Syracuse, NY|\n",
      "|   SYR|Syracuse, NY|SYR-Syracuse, NY|\n",
      "|   SYR|Syracuse, NY|SYR-Syracuse, NY|\n",
      "|   SYR|Syracuse, NY|SYR-Syracuse, NY|\n",
      "|   SYR|Syracuse, NY|SYR-Syracuse, NY|\n",
      "|   SYR|Syracuse, NY|SYR-Syracuse, NY|\n",
      "|   SYR|Syracuse, NY|SYR-Syracuse, NY|\n",
      "|   SYR|Syracuse, NY|SYR-Syracuse, NY|\n",
      "|   SYR|Syracuse, NY|SYR-Syracuse, NY|\n",
      "|   SYR|Syracuse, NY|SYR-Syracuse, NY|\n",
      "|   SYR|Syracuse, NY|SYR-Syracuse, NY|\n",
      "|   SYR|Syracuse, NY|SYR-Syracuse, NY|\n",
      "|   SYR|Syracuse, NY|SYR-Syracuse, NY|\n",
      "|   SYR|Syracuse, NY|SYR-Syracuse, NY|\n",
      "|   SYR|Syracuse, NY|SYR-Syracuse, NY|\n",
      "|   SYR|Syracuse, NY|SYR-Syracuse, NY|\n",
      "|   SYR|Syracuse, NY|SYR-Syracuse, NY|\n",
      "+------+------------+----------------+\n",
      "only showing top 20 rows\n",
      "\n"
     ]
    }
   ],
   "source": [
    "flightsConcat = flightsDF.withColumn(\"Concat\",\\\n",
    "                                     F.concat_ws(\"-\",\"Origin\",\"OriginCity\"))\\\n",
    "                         .select(\"Origin\", \"OriginCity\", \"Concat\")\n",
    "flightsConcat.show()"
   ]
  },
  {
   "cell_type": "code",
   "execution_count": 55,
   "id": "7648fdfc",
   "metadata": {},
   "outputs": [],
   "source": [
    "#Convertir el tipo de dato de una columna"
   ]
  },
  {
   "cell_type": "code",
   "execution_count": 56,
   "id": "607d1ea9",
   "metadata": {},
   "outputs": [
    {
     "name": "stdout",
     "output_type": "stream",
     "text": [
      "Hay  250196 filas con NA en ArrDelay\n"
     ]
    }
   ],
   "source": [
    "naCount = flightsDF.where(\"ArrDelay = 'NA'\").count()\n",
    "\n",
    "# Esto es sintaxis SQL, pero también podríamos haberla llamado como .where(F.col(\"ArrDelay\") == \"NA\"). Ambas son equivalentes.\n",
    "\n",
    "print(\"Hay \", naCount, \"filas con NA en ArrDelay\")"
   ]
  },
  {
   "cell_type": "code",
   "execution_count": 57,
   "id": "4d1aaf6a",
   "metadata": {},
   "outputs": [
    {
     "data": {
      "text/plain": [
       "2196454"
      ]
     },
     "execution_count": 57,
     "metadata": {},
     "output_type": "execute_result"
    }
   ],
   "source": [
    "flightsDF.where(F.col(\"ArrDelay\") != \"NA\").count()"
   ]
  },
  {
   "cell_type": "code",
   "execution_count": 58,
   "id": "cf074ac6",
   "metadata": {},
   "outputs": [],
   "source": [
    "#from pyspark.sql.types import DoubleType\n",
    "from pyspark.sql import types as T\n",
    "\n",
    "flightsDF = flightsDF.where((F.col(\"ArrDelay\") != \"NA\"))\\\n",
    "                     .withColumn(\"ArrDelay\", F.col(\"ArrDelay\").cast(T.DoubleType()))"
   ]
  },
  {
   "cell_type": "code",
   "execution_count": 59,
   "id": "4d6c215d",
   "metadata": {},
   "outputs": [
    {
     "data": {
      "text/plain": [
       "False"
      ]
     },
     "execution_count": 59,
     "metadata": {},
     "output_type": "execute_result"
    }
   ],
   "source": [
    "flightsDF.is_cached"
   ]
  },
  {
   "cell_type": "code",
   "execution_count": 60,
   "id": "e5ec36c2",
   "metadata": {},
   "outputs": [],
   "source": [
    "#Ordenacion respecto a una columna"
   ]
  },
  {
   "cell_type": "code",
   "execution_count": 61,
   "id": "69e16268",
   "metadata": {},
   "outputs": [
    {
     "name": "stdout",
     "output_type": "stream",
     "text": [
      "+--------+------+----+\n",
      "|ArrDelay|Origin|Dest|\n",
      "+--------+------+----+\n",
      "|  2475.0|   HNL| PPG|\n",
      "|  2454.0|   PPG| HNL|\n",
      "|  1778.0|   ORF| DFW|\n",
      "|  1757.0|   SMF| DFW|\n",
      "|  1717.0|   HNL| JFK|\n",
      "|  1704.0|   EGE| DFW|\n",
      "|  1685.0|   ORF| JFK|\n",
      "|  1650.0|   ABQ| DFW|\n",
      "|  1648.0|   SLC| DFW|\n",
      "|  1576.0|   IAH| MIA|\n",
      "+--------+------+----+\n",
      "only showing top 10 rows\n",
      "\n"
     ]
    }
   ],
   "source": [
    "# Ordenamos los vuelos según ArrDelay\n",
    "sortedDF = flightsDF.orderBy(\"ArrDelay\")  # equivalente: flightsDF.orderBy(F.col(\"ArrDelay\"))\n",
    "\n",
    "# Orden ascendentemente por aeropuerto de origen (\"Origin\") y deshago los empates por arr_delay descendentemente\n",
    "sortedDF = flightsDF.orderBy(F.col(\"Origin\"), F.col(\"ArrDelay\").desc())  # equivalente: flightsDF.orderBy(F.col(\"ArrDelay\"))\n",
    "\n",
    "sortedDescDF = flightsDF.orderBy(\"ArrDelay\", ascending = False)\n",
    "sortedDescDF.select(\"ArrDelay\", \"Origin\", \"Dest\").show(10)"
   ]
  },
  {
   "cell_type": "code",
   "execution_count": 62,
   "id": "4113040d",
   "metadata": {},
   "outputs": [],
   "source": [
    "primeraFila = sortedDescDF.first()"
   ]
  },
  {
   "cell_type": "code",
   "execution_count": 63,
   "id": "cf7e92ef",
   "metadata": {},
   "outputs": [
    {
     "data": {
      "text/plain": [
       "1445"
      ]
     },
     "execution_count": 63,
     "metadata": {},
     "output_type": "execute_result"
    }
   ],
   "source": [
    "primeraFila.ArrTime"
   ]
  },
  {
   "cell_type": "code",
   "execution_count": 64,
   "id": "ca5e4f14",
   "metadata": {},
   "outputs": [
    {
     "data": {
      "text/plain": [
       "[2599.0,\n",
       " 2599.0,\n",
       " 1212.0,\n",
       " 1431.0,\n",
       " 4983.0,\n",
       " 721.0,\n",
       " 290.0,\n",
       " 569.0,\n",
       " 989.0,\n",
       " 964.0,\n",
       " 861.0,\n",
       " 1810.0,\n",
       " 282.0,\n",
       " 1235.0,\n",
       " 1363.0,\n",
       " 228.0,\n",
       " 1172.0,\n",
       " 861.0,\n",
       " 715.0,\n",
       " 258.0]"
      ]
     },
     "execution_count": 64,
     "metadata": {},
     "output_type": "execute_result"
    }
   ],
   "source": [
    "\n",
    "listaRows = sortedDescDF.take(20)  # devuelve una lista de Python, de objetos Row\n",
    "distancias = [r.Distance for r in listaRows]  # usamos sintaxis de listas por comprensión\n",
    "distancias"
   ]
  },
  {
   "cell_type": "code",
   "execution_count": 65,
   "id": "cd84d003",
   "metadata": {},
   "outputs": [
    {
     "name": "stdout",
     "output_type": "stream",
     "text": [
      "root\n",
      " |-- Month: integer (nullable = true)\n",
      " |-- DayofMonth: integer (nullable = true)\n",
      " |-- DayOfWeek: integer (nullable = true)\n",
      " |-- FlightDate: string (nullable = true)\n",
      " |-- Origin: string (nullable = true)\n",
      " |-- OriginCity: string (nullable = true)\n",
      " |-- Dest: string (nullable = true)\n",
      " |-- DestCity: string (nullable = true)\n",
      " |-- DepTime: integer (nullable = true)\n",
      " |-- DepDelay: double (nullable = true)\n",
      " |-- ArrTime: integer (nullable = true)\n",
      " |-- ArrDelay: double (nullable = true)\n",
      " |-- Cancelled: double (nullable = true)\n",
      " |-- CancellationCode: string (nullable = true)\n",
      " |-- Diverted: double (nullable = true)\n",
      " |-- ActualElapsedTime: double (nullable = true)\n",
      " |-- AirTime: double (nullable = true)\n",
      " |-- Distance: double (nullable = true)\n",
      " |-- CarrierDelay: double (nullable = true)\n",
      " |-- WeatherDelay: double (nullable = true)\n",
      " |-- NASDelay: double (nullable = true)\n",
      " |-- SecurityDelay: double (nullable = true)\n",
      " |-- LateAircraftDelay: double (nullable = true)\n",
      "\n"
     ]
    }
   ],
   "source": [
    "flightsDF.printSchema()"
   ]
  },
  {
   "cell_type": "code",
   "execution_count": 66,
   "id": "4034be0e",
   "metadata": {},
   "outputs": [
    {
     "data": {
      "text/plain": [
       "2196454"
      ]
     },
     "execution_count": 66,
     "metadata": {},
     "output_type": "execute_result"
    }
   ],
   "source": [
    "\n",
    "flightsDF.count()"
   ]
  },
  {
   "cell_type": "code",
   "execution_count": 69,
   "id": "e4bb38cd",
   "metadata": {},
   "outputs": [
    {
     "name": "stdout",
     "output_type": "stream",
     "text": [
      "+-----------+\n",
      "|VarArrDelay|\n",
      "+-----------+\n",
      "|       24.0|\n",
      "|      149.0|\n",
      "|       63.0|\n",
      "|       57.0|\n",
      "|       21.0|\n",
      "|       61.0|\n",
      "|       17.0|\n",
      "|       25.0|\n",
      "|      131.0|\n",
      "|       25.0|\n",
      "|       16.0|\n",
      "|       58.0|\n",
      "|       34.0|\n",
      "|       43.0|\n",
      "|       70.0|\n",
      "|      194.0|\n",
      "|       32.0|\n",
      "|       16.0|\n",
      "|       56.0|\n",
      "|       61.0|\n",
      "+-----------+\n",
      "only showing top 20 rows\n",
      "\n"
     ]
    }
   ],
   "source": [
    "flightsDF.select(F.col(\"Arrdelay\").alias(\"VarArrDelay\")).where(F.col(\"ArrDelay\")>15).show()"
   ]
  },
  {
   "cell_type": "code",
   "execution_count": null,
   "id": "a63f0873",
   "metadata": {},
   "outputs": [],
   "source": []
  }
 ],
 "metadata": {
  "kernelspec": {
   "display_name": "Python 3",
   "language": "python",
   "name": "python3"
  },
  "language_info": {
   "codemirror_mode": {
    "name": "ipython",
    "version": 3
   },
   "file_extension": ".py",
   "mimetype": "text/x-python",
   "name": "python",
   "nbconvert_exporter": "python",
   "pygments_lexer": "ipython3",
   "version": "3.8.8"
  }
 },
 "nbformat": 4,
 "nbformat_minor": 5
}
