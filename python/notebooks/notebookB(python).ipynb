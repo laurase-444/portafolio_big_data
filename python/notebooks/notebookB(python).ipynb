{
 "cells": [
  {
   "cell_type": "code",
   "execution_count": 2,
   "id": "64b8756f",
   "metadata": {},
   "outputs": [],
   "source": [
    "from pyspark.sql import SparkSession\n",
    "\n",
    "spark = (SparkSession\n",
    "        .builder\n",
    "        .appName(\"PythonMnMCount\")\n",
    "        .getOrCreate())"
   ]
  },
  {
   "cell_type": "code",
   "execution_count": null,
   "id": "725c1eda",
   "metadata": {},
   "outputs": [],
   "source": [
    "#EJERCICIO 1 : Leerlo tratando de que Spark infiera el tipo de dato de cada columna, y cachearlo"
   ]
  },
  {
   "cell_type": "code",
   "execution_count": null,
   "id": "38768f6e",
   "metadata": {},
   "outputs": [],
   "source": [
    "# LÍNEA EVALUABLE, NO RENOMBRAR LAS VARIABLES\n",
    "contractsDF = (spark.read.format(\"csv\")\\\n",
    "        .option(\"header\", \"true\")\\\n",
    "        .option(\"inferSchema\", \"true\")\\\n",
    "        .option(\"quote\", \"\\\"\")\\\n",
    "        .option(\"escape\", \"\\\"\")\\\n",
    "        .option(\"mode\", \"DROPMALFORMED\")\\\n",
    "        .load('C:/Users/laura.serrano/Desktop/Major_Contract_Awards.csv')).cache() \n",
    "contractsDF.printSchema()"
   ]
  },
  {
   "cell_type": "code",
   "execution_count": null,
   "id": "ff3b232d",
   "metadata": {},
   "outputs": [],
   "source": [
    "from pyspark.sql.types import DoubleType\n",
    "assert(contractsDF.count() == 148515)"
   ]
  },
  {
   "cell_type": "code",
   "execution_count": null,
   "id": "781c653a",
   "metadata": {},
   "outputs": [],
   "source": [
    "#EJERCICIO 2"
   ]
  },
  {
   "cell_type": "code",
   "execution_count": null,
   "id": "46d0648e",
   "metadata": {},
   "outputs": [],
   "source": [
    "from pyspark.sql import functions as F\n",
    "from pyspark.sql.types import IntegerType\n",
    "contractsDFenteros = (contractsDF.withColumn(\"Total Contract Amount (USD)\",\\\n",
    "                                            F.regexp_replace(\"Total Contract Amount (USD)\",\"\\$\",\"\").cast(IntegerType()))).cache()"
   ]
  },
  {
   "cell_type": "code",
   "execution_count": null,
   "id": "398d46ec",
   "metadata": {},
   "outputs": [],
   "source": [
    "contractsDFenteros.printSchema()"
   ]
  },
  {
   "cell_type": "code",
   "execution_count": null,
   "id": "06c867d9",
   "metadata": {},
   "outputs": [],
   "source": [
    "from pyspark.sql.types import IntegerType\n",
    "assert(len(contractsDFenteros.columns) == len(contractsDF.columns))\n",
    "assert(contractsDFenteros.count() == contractsDF.count())\n",
    "assert(contractsDFenteros.schema[\"Total Contract Amount (USD)\"].dataType == IntegerType())"
   ]
  },
  {
   "cell_type": "code",
   "execution_count": null,
   "id": "bfd1c4fe",
   "metadata": {},
   "outputs": [],
   "source": [
    "#EJERCICIO 3"
   ]
  },
  {
   "cell_type": "code",
   "execution_count": null,
   "id": "8a135bce",
   "metadata": {},
   "outputs": [],
   "source": [
    "# LÍNEA EVALUABLE, NO RENOMBRAR VARIABLES\n",
    "contractsTranslatedDF = contractsDFenteros.withColumn(\"Region\",\\\n",
    "                                                     F.when((F.col(\"Region\") == \"LATIN AMERICA AND CARIBBEAN\"), \"América Latina y Caribe\")\\\n",
    "                                                    .when((F.col(\"Region\") == \"SOUTH ASIA\"), \"Asia del Sur\")\\\n",
    "                                                    .when((F.col(\"Region\") == \"OTHER\"), \"Otro\")\\\n",
    "                                                    .when((F.col(\"Region\") == \"AFRICA\"), \"África\")\\\n",
    "                                                    .when((F.col(\"Region\") == \"MIDDLE EAST AND NORTH AFRICA\"), \"Oriente Medio y África del Norte\")\\\n",
    "                                                    .when((F.col(\"Region\") == \"EAST ASIA AND PACIFIC\"), \"Asia Oriental y Pacífico\")\\\n",
    "                                                    .when((F.col(\"Region\") == \"EUROPE AND CENTRAL ASIA\"), \"Europa y Asia Central\"))"
   ]
  },
  {
   "cell_type": "code",
   "execution_count": null,
   "id": "f0f2058d",
   "metadata": {},
   "outputs": [],
   "source": [
    "assert(contractsTranslatedDF.select(\"Region\").distinct().count() == 7)\n",
    "g1 = contractsDF.groupBy(\"Region\").count().withColumnRenamed(\"Region\", \"R1\")\n",
    "g2 = contractsTranslatedDF.groupBy(\"Region\").agg(F.count(\"*\").alias(\"c2\"))\n",
    "joinedDF = g1.join(g2, F.col(\"count\") == g2.c2)\n",
    "assert(joinedDF.count() == 7)\n",
    "assert(joinedDF.where(F.col(\"count\") == F.col(\"c2\")).count() == 7)\n",
    "assert(joinedDF.where(F.col(\"R1\") == F.col(\"Region\")).count() == 0)"
   ]
  },
  {
   "cell_type": "code",
   "execution_count": null,
   "id": "3220e2a9",
   "metadata": {},
   "outputs": [],
   "source": [
    "#EJERCICIO 4"
   ]
  },
  {
   "cell_type": "code",
   "execution_count": null,
   "id": "f05d64b9",
   "metadata": {},
   "outputs": [],
   "source": [
    "numeroCategoriasDF = contractsTranslatedDF.select(F.countDistinct(F.col(\"Procurement Type\")).alias(\"Procurement Type\"),\\\n",
    "                                                 F.countDistinct(F.col(\"Procurement Category\")).alias(\"Procurement Category\"),\\\n",
    "                                                 F.countDistinct(F.col(\"Procurement Method\")).alias(\"Procurement Method\"))\n",
    "numeroCategoriasDF.show()"
   ]
  },
  {
   "cell_type": "code",
   "execution_count": null,
   "id": "bf184570",
   "metadata": {},
   "outputs": [],
   "source": [
    "assert(len(numeroCategoriasDF.columns) == 3)\n",
    "assert(numeroCategoriasDF.count() == 1)\n",
    "categorias = numeroCategoriasDF.collect()[0]\n",
    "assert(categorias[\"Procurement Type\"] == 60)\n",
    "assert(categorias[\"Procurement Category\"] == 5)\n",
    "assert(categorias[\"Procurement Method\"] == 18)"
   ]
  },
  {
   "cell_type": "code",
   "execution_count": null,
   "id": "f0e47161",
   "metadata": {},
   "outputs": [],
   "source": [
    "#EJERCICIO 5 (NO HACER PIPELINE)"
   ]
  },
  {
   "cell_type": "code",
   "execution_count": null,
   "id": "08210e6d",
   "metadata": {},
   "outputs": [],
   "source": [
    "#EJERCICIO 6"
   ]
  },
  {
   "cell_type": "code",
   "execution_count": null,
   "id": "1313e648",
   "metadata": {},
   "outputs": [],
   "source": [
    "from pyspark.sql import Window\n",
    "paisWindow = Window().partitionBy(\"Borrower Country\")\n",
    "porcentajesDF = contractsDFenteros.withColumn(\"Total Pais\",F.sum(\"Total Contract Amount (USD)\").over(paisWindow))\\\n",
    "                                .withColumn(\"Porcentaje Pais\", (F.col(\"Total Contract Amount (USD)\"))*100/F.col(\"Total Pais\"))\\\n",
    "                                .withColumn(\"Media Pais\", F.avg(\"Total Contract Amount (USD)\").over(paisWindow))\\\n",
    "                                .withColumn(\"Diff Porcentaje\", ((F.col(\"Total Contract Amount (USD)\")-F.col(\"Media Pais\"))/\\\n",
    "                                                                        (F.col(\"Media Pais\")))*100)\n",
    "\n"
   ]
  },
  {
   "cell_type": "code",
   "execution_count": null,
   "id": "0afa0561",
   "metadata": {},
   "outputs": [],
   "source": [
    "assert(\"Total Pais\" in porcentajesDF.columns)\n",
    "assert(\"Porcentaje Pais\" in porcentajesDF.columns)\n",
    "r = porcentajesDF.where(\"`Project ID` = 'P069947'\").head()\n",
    "assert(r[\"Total Pais\"] == 70485209)\n",
    "assert(r[\"Porcentaje Pais\"] - 25.985824912571374 < 0.001)\n",
    "assert(r[\"Media Pais\"] - 597332.279661017 < 0.001)\n",
    "assert(r[\"Diff Porcentaje\"] - 2966.3273396834217 < 0.001)"
   ]
  }
 ],
 "metadata": {
  "kernelspec": {
   "display_name": "Python 3",
   "language": "python",
   "name": "python3"
  },
  "language_info": {
   "codemirror_mode": {
    "name": "ipython",
    "version": 3
   },
   "file_extension": ".py",
   "mimetype": "text/x-python",
   "name": "python",
   "nbconvert_exporter": "python",
   "pygments_lexer": "ipython3",
   "version": "3.8.8"
  }
 },
 "nbformat": 4,
 "nbformat_minor": 5
}
