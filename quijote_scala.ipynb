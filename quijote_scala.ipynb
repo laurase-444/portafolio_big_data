{
 "cells": [
  {
   "cell_type": "code",
   "execution_count": 5,
   "id": "457f07d7",
   "metadata": {},
   "outputs": [
    {
     "data": {
      "text/plain": [
       "import org.apache.spark.sql.SparkSession\r\n",
       "import org.apache.spark.sql.functions._\r\n"
      ]
     },
     "execution_count": 5,
     "metadata": {},
     "output_type": "execute_result"
    }
   ],
   "source": [
    "import org.apache.spark.sql.SparkSession\n",
    "import org.apache.spark.sql.functions._"
   ]
  },
  {
   "cell_type": "code",
   "execution_count": 6,
   "id": "66b422ba",
   "metadata": {},
   "outputs": [
    {
     "data": {
      "text/plain": [
       "spark: org.apache.spark.sql.SparkSession = org.apache.spark.sql.SparkSession@2bdf49e1\r\n"
      ]
     },
     "execution_count": 6,
     "metadata": {},
     "output_type": "execute_result"
    }
   ],
   "source": [
    "val spark = SparkSession.builder.appName(\"quijote\").getOrCreate()"
   ]
  },
  {
   "cell_type": "code",
   "execution_count": 7,
   "id": "9c20d4d2",
   "metadata": {},
   "outputs": [
    {
     "data": {
      "text/plain": [
       "quijo: org.apache.spark.sql.DataFrame = [DON: string, QUIJOTE: string ... 3 more fields]\r\n"
      ]
     },
     "execution_count": 7,
     "metadata": {},
     "output_type": "execute_result"
    }
   ],
   "source": [
    "val quijo = spark.read.format(\"csv\")\n",
    ".option(\"header\", \"true\")\n",
    ".option(\"inferSchema\", \"true\")\n",
    ".option(\"delimiter\", \" \")\n",
    ".load(\"C:/Users/laura.serrano/Desktop/big_data/el_quijote.csv\")"
   ]
  },
  {
   "cell_type": "code",
   "execution_count": 10,
   "id": "9599cdf2",
   "metadata": {},
   "outputs": [
    {
     "ename": "<console>",
     "evalue": "36: error: type mismatch;\r",
     "output_type": "error",
     "traceback": [
      "<console>:36: error: type mismatch;\r",
      " found   : Boolean(true)\r",
      " required: Int\r",
      "       quijo.show(10,true, true)\r",
      "                     ^\r",
      ""
     ]
    }
   ],
   "source": [
    "quijo.show(10,true, true)"
   ]
  },
  {
   "cell_type": "code",
   "execution_count": null,
   "id": "45987692",
   "metadata": {},
   "outputs": [],
   "source": [
    "quijo.count();"
   ]
  },
  {
   "cell_type": "code",
   "execution_count": null,
   "id": "460f190d",
   "metadata": {},
   "outputs": [],
   "source": [
    "quijo.show(5,50)"
   ]
  },
  {
   "cell_type": "code",
   "execution_count": 7,
   "id": "5578ae40",
   "metadata": {},
   "outputs": [
    {
     "name": "stdout",
     "output_type": "stream",
     "text": [
      "root\n",
      " |-- DON: string (nullable = true)\n",
      " |-- QUIJOTE: string (nullable = true)\n",
      " |-- DE: string (nullable = true)\n",
      " |-- LA: string (nullable = true)\n",
      " |-- MANCHA: string (nullable = true)\n",
      "\r\n"
     ]
    }
   ],
   "source": [
    "quijo.printSchema()"
   ]
  },
  {
   "cell_type": "code",
   "execution_count": 8,
   "id": "0354242f",
   "metadata": {},
   "outputs": [
    {
     "name": "stdout",
     "output_type": "stream",
     "text": [
      "-RECORD 0--------\n",
      " DON     | Mi... \n",
      " QUIJOTE | de    \n",
      " DE      | Ce... \n",
      " LA      | Sa... \n",
      " MANCHA  | null  \n",
      "-RECORD 1--------\n",
      " DON     | PR... \n",
      " QUIJOTE | PARTE \n",
      " DE      | null  \n",
      " LA      | null  \n",
      " MANCHA  | null  \n",
      "-RECORD 2--------\n",
      " DON     | CA... \n",
      " QUIJOTE | 1:    \n",
      " DE      | Que   \n",
      " LA      | trata \n",
      " MANCHA  | de    \n",
      "only showing top 3 rows\n",
      "\r\n"
     ]
    }
   ],
   "source": [
    "quijo.show(3, 5, true)"
   ]
  },
  {
   "cell_type": "code",
   "execution_count": 10,
   "id": "ad551ccf",
   "metadata": {},
   "outputs": [
    {
     "data": {
      "text/plain": [
       "quijote: org.apache.spark.rdd.RDD[String] = C:/Users/laura.serrano/Desktop/big_data/el_quijote.txt MapPartitionsRDD[29] at textFile at <console>:30\r\n"
      ]
     },
     "execution_count": 10,
     "metadata": {},
     "output_type": "execute_result"
    }
   ],
   "source": [
    "val quijote=spark.sparkContext.textFile(\"C:/Users/laura.serrano/Desktop/big_data/el_quijote.txt\")"
   ]
  },
  {
   "cell_type": "code",
   "execution_count": 11,
   "id": "dd29cde3",
   "metadata": {},
   "outputs": [
    {
     "data": {
      "text/plain": [
       "res5: Long = 2186\r\n"
      ]
     },
     "execution_count": 11,
     "metadata": {},
     "output_type": "execute_result"
    }
   ],
   "source": [
    "quijote.count()"
   ]
  },
  {
   "cell_type": "code",
   "execution_count": 13,
   "id": "7acbaae5",
   "metadata": {},
   "outputs": [
    {
     "data": {
      "text/plain": [
       "res7: Array[String] = Array(DON QUIJOTE DE LA MANCHA, Miguel de Cervantes Saavedra, \"\", PRIMERA PARTE, CAPI?TULO 1: Que trata de la condicio?n y ejercicio del famoso hidalgo D. Quijote de la Mancha, En un lugar de la Mancha, de cuyo nombre no quiero acordarme, no ha mucho tiempo que vivi?a un hidalgo de los de lanza en astillero, adarga antigua, roci?n flaco y galgo corredor. Una olla de algo ma?s vaca que carnero, salpico?n las ma?s noches, duelos y quebrantos los sa?bados, lentejas los viernes, algu?n palomino de an?adidura los domingos, consumi?an las tres partes de su hacienda. El resto della conclui?an sayo de velarte, calzas de velludo para las fiestas con sus pantuflos de lo mismo, los di?as de entre semana se honraba con su vellori de lo ma?s fino. Teni?a en su casa una ama que ...\r\n"
      ]
     },
     "execution_count": 13,
     "metadata": {},
     "output_type": "execute_result"
    }
   ],
   "source": [
    "quijote.take(10)"
   ]
  },
  {
   "cell_type": "code",
   "execution_count": null,
   "id": "7a129a07",
   "metadata": {},
   "outputs": [],
   "source": []
  }
 ],
 "metadata": {
  "kernelspec": {
   "display_name": "spylon-kernel",
   "language": "scala",
   "name": "spylon-kernel"
  },
  "language_info": {
   "codemirror_mode": "text/x-scala",
   "file_extension": ".scala",
   "help_links": [
    {
     "text": "MetaKernel Magics",
     "url": "https://metakernel.readthedocs.io/en/latest/source/README.html"
    }
   ],
   "mimetype": "text/x-scala",
   "name": "scala",
   "pygments_lexer": "scala",
   "version": "0.4.1"
  }
 },
 "nbformat": 4,
 "nbformat_minor": 5
}
