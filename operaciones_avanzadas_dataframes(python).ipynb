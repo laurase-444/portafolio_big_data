{
 "cells": [
  {
   "cell_type": "code",
   "execution_count": 2,
   "id": "88f7f404",
   "metadata": {},
   "outputs": [],
   "source": [
    "from pyspark.sql import SparkSession\n",
    "\n",
    "spark = (SparkSession\n",
    "        .builder\n",
    "        .appName(\"PythonMnMCount\")\n",
    "        .getOrCreate())"
   ]
  },
  {
   "cell_type": "code",
   "execution_count": 3,
   "id": "2dbd65e7",
   "metadata": {},
   "outputs": [],
   "source": [
    "import pyspark.sql.functions as F\n",
    "from pyspark.sql.types import IntegerType\n",
    "\n",
    "# Leemos los datos y quitamos filas con NA y convertimos a numéricas las columnas inferidas incorrectamente\n",
    "flightsDF = spark.read\\\n",
    "                 .option(\"header\", \"true\")\\\n",
    "                 .option(\"inferSchema\", \"true\")\\\n",
    "                 .csv(\"C:/Users/laura.serrano/Desktop/flights-jan-apr-2018.csv\")\n",
    "\n",
    "# Convertimos a enteros y re-categorizamos ArrDelay en una nueva columna ArrDelayCat\n",
    "# None (< 15 min), Slight(entre 15 y 60 min), Huge (> 60 min)\n",
    "\n",
    "cleanFlightsDF = flightsDF.withColumn(\"ArrDelayCat\", F.when(F.col(\"ArrDelay\") < 15, \"None\")\\\n",
    "                                                      .when((F.col(\"ArrDelay\") >= 15) & (F.col(\"ArrDelay\") < 60), \"Slight\")\\\n",
    "                                                      .otherwise(\"Huge\"))\\\n",
    "                           .cache()"
   ]
  },
  {
   "cell_type": "code",
   "execution_count": 4,
   "id": "81a4ac5b",
   "metadata": {
    "scrolled": true
   },
   "outputs": [
    {
     "name": "stdout",
     "output_type": "stream",
     "text": [
      "+-----+----------+---------+----------+------+------------+----+------------+-------+--------+-------+--------+---------+----------------+--------+-----------------+-------+--------+------------+------------+--------+-------------+-----------------+-----------+\n",
      "|Month|DayofMonth|DayOfWeek|FlightDate|Origin|  OriginCity|Dest|    DestCity|DepTime|DepDelay|ArrTime|ArrDelay|Cancelled|CancellationCode|Diverted|ActualElapsedTime|AirTime|Distance|CarrierDelay|WeatherDelay|NASDelay|SecurityDelay|LateAircraftDelay|ArrDelayCat|\n",
      "+-----+----------+---------+----------+------+------------+----+------------+-------+--------+-------+--------+---------+----------------+--------+-----------------+-------+--------+------------+------------+--------+-------------+-----------------+-----------+\n",
      "|    1|        14|        7|2018-01-14|   SYR|Syracuse, NY| DTW| Detroit, MI|   null|    null|   null|    null|      1.0|               B|     0.0|             null|   null|   374.0|        null|        null|    null|         null|             null|       Huge|\n",
      "|    1|         3|        3|2018-01-03|   SYR|Syracuse, NY| LGA|New York, NY|   1348|   -10.0|   1506|   -13.0|      0.0|            null|     0.0|             78.0|   42.0|   198.0|        null|        null|    null|         null|             null|       None|\n",
      "|    1|         6|        6|2018-01-06|   SYR|Syracuse, NY| LGA|New York, NY|   1410|    12.0|   1543|    24.0|      0.0|            null|     0.0|             93.0|   45.0|   198.0|        12.0|         0.0|    12.0|          0.0|              0.0|     Slight|\n",
      "|    1|         7|        7|2018-01-07|   SYR|Syracuse, NY| LGA|New York, NY|   1347|   -11.0|   1455|   -24.0|      0.0|            null|     0.0|             68.0|   38.0|   198.0|        null|        null|    null|         null|             null|       None|\n",
      "|    1|         8|        1|2018-01-08|   SYR|Syracuse, NY| LGA|New York, NY|   1350|    -8.0|   1509|   -10.0|      0.0|            null|     0.0|             79.0|   39.0|   198.0|        null|        null|    null|         null|             null|       None|\n",
      "|    1|         9|        2|2018-01-09|   SYR|Syracuse, NY| LGA|New York, NY|   1351|    -7.0|   1504|   -15.0|      0.0|            null|     0.0|             73.0|   43.0|   198.0|        null|        null|    null|         null|             null|       None|\n",
      "|    1|        10|        3|2018-01-10|   SYR|Syracuse, NY| LGA|New York, NY|   1347|   -11.0|   1455|   -24.0|      0.0|            null|     0.0|             68.0|   38.0|   198.0|        null|        null|    null|         null|             null|       None|\n",
      "|    1|        11|        4|2018-01-11|   SYR|Syracuse, NY| LGA|New York, NY|   1345|   -13.0|   1452|   -27.0|      0.0|            null|     0.0|             67.0|   41.0|   198.0|        null|        null|    null|         null|             null|       None|\n",
      "|    1|        12|        5|2018-01-12|   SYR|Syracuse, NY| LGA|New York, NY|   1640|   162.0|   1748|   149.0|      0.0|            null|     0.0|             68.0|   40.0|   198.0|         0.0|         0.0|    97.0|          0.0|             52.0|       Huge|\n",
      "|    1|        13|        6|2018-01-13|   SYR|Syracuse, NY| LGA|New York, NY|   1338|   -20.0|   1514|    -5.0|      0.0|            null|     0.0|             96.0|   44.0|   198.0|        null|        null|    null|         null|             null|       None|\n",
      "|    1|        15|        1|2018-01-15|   SYR|Syracuse, NY| LGA|New York, NY|   1353|    -5.0|   1456|   -23.0|      0.0|            null|     0.0|             63.0|   42.0|   198.0|        null|        null|    null|         null|             null|       None|\n",
      "|    1|        16|        2|2018-01-16|   SYR|Syracuse, NY| LGA|New York, NY|   1357|    -1.0|   1511|    -8.0|      0.0|            null|     0.0|             74.0|   43.0|   198.0|        null|        null|    null|         null|             null|       None|\n",
      "|    1|        17|        3|2018-01-17|   SYR|Syracuse, NY| LGA|New York, NY|   1526|    88.0|   1622|    63.0|      0.0|            null|     0.0|             56.0|   41.0|   198.0|         0.0|         0.0|     0.0|          0.0|             63.0|       Huge|\n",
      "|    1|        18|        4|2018-01-18|   SYR|Syracuse, NY| LGA|New York, NY|   1354|    -4.0|   1509|   -10.0|      0.0|            null|     0.0|             75.0|   41.0|   198.0|        null|        null|    null|         null|             null|       None|\n",
      "|    1|        19|        5|2018-01-19|   SYR|Syracuse, NY| LGA|New York, NY|   1344|   -14.0|   1449|   -30.0|      0.0|            null|     0.0|             65.0|   38.0|   198.0|        null|        null|    null|         null|             null|       None|\n",
      "|    1|        20|        6|2018-01-20|   SYR|Syracuse, NY| LGA|New York, NY|   1433|    35.0|   1533|    14.0|      0.0|            null|     0.0|             60.0|   33.0|   198.0|        null|        null|    null|         null|             null|       None|\n",
      "|    1|        21|        7|2018-01-21|   SYR|Syracuse, NY| LGA|New York, NY|   1353|    -5.0|   1508|   -11.0|      0.0|            null|     0.0|             75.0|   43.0|   198.0|        null|        null|    null|         null|             null|       None|\n",
      "|    1|        22|        1|2018-01-22|   SYR|Syracuse, NY| LGA|New York, NY|   1354|    -4.0|   1504|   -15.0|      0.0|            null|     0.0|             70.0|   48.0|   198.0|        null|        null|    null|         null|             null|       None|\n",
      "|    1|        23|        2|2018-01-23|   SYR|Syracuse, NY| LGA|New York, NY|   1501|    63.0|   1616|    57.0|      0.0|            null|     0.0|             75.0|   38.0|   198.0|         0.0|         0.0|    57.0|          0.0|              0.0|     Slight|\n",
      "|    1|        24|        3|2018-01-24|   SYR|Syracuse, NY| LGA|New York, NY|   1355|    -3.0|   1515|    -4.0|      0.0|            null|     0.0|             80.0|   41.0|   198.0|        null|        null|    null|         null|             null|       None|\n",
      "+-----+----------+---------+----------+------+------------+----+------------+-------+--------+-------+--------+---------+----------------+--------+-----------------+-------+--------+------------+------------+--------+-------------+-----------------+-----------+\n",
      "only showing top 20 rows\n",
      "\n"
     ]
    }
   ],
   "source": [
    "cleanFlightsDF.show()"
   ]
  },
  {
   "cell_type": "code",
   "execution_count": null,
   "id": "a5c41ca3",
   "metadata": {},
   "outputs": [],
   "source": [
    "# PREGUNTA: ¿Cuáles son los vuelos (origen, destino) con mayor retraso medio? \n",
    "# ¿Cuántos vuelos existen entre cada par de aeropuertos?\n",
    "\n",
    "#PISTA: Tras hacer las agregaciones para cada pareja \"Origin\", \"Dest\" \n",
    "#(una agregación para el retraso medio y otra para contar), \n",
    "#aplica el método sort(F.col(\"avgDelay\").desc()) para ordenar de forma decreciente por la nueva columna del retraso medio."
   ]
  },
  {
   "cell_type": "code",
   "execution_count": 10,
   "id": "39109ba3",
   "metadata": {},
   "outputs": [
    {
     "name": "stdout",
     "output_type": "stream",
     "text": [
      "+------+----+------------------+----------+\n",
      "|Origin|Dest|          avgDelay|num_vuelos|\n",
      "+------+----+------------------+----------+\n",
      "|   RDM| MFR|            1347.0|         2|\n",
      "|   MDT| HPN|             798.0|         1|\n",
      "|   ORD| GTF|             212.0|         1|\n",
      "|   ICT| DAY|             210.0|         1|\n",
      "|   ELM| ATL|             169.0|         2|\n",
      "|   DSM| PIA|             168.0|         1|\n",
      "|   ERI| ITH|             160.0|         1|\n",
      "|   YNG| PIE|             141.0|         1|\n",
      "|   CMH| HOU|             120.0|         1|\n",
      "|   HRL| DAL|             111.0|         1|\n",
      "|   PPG| HNL|109.85714285714286|        35|\n",
      "|   HNL| PPG|105.85714285714286|        35|\n",
      "|   PIE| YNG|             104.0|         1|\n",
      "|   AVP| SFB|              93.0|         1|\n",
      "|   ACY| MSY| 87.45454545454545|        11|\n",
      "|   CPR| LAS|              85.0|         1|\n",
      "|   LAS| CPR|              82.0|         1|\n",
      "|   TTN| BNA|              76.5|        10|\n",
      "|   MSP| PVD|              74.0|         1|\n",
      "|   TUL| OKC|              69.0|         1|\n",
      "+------+----+------------------+----------+\n",
      "only showing top 20 rows\n",
      "\n"
     ]
    }
   ],
   "source": [
    "from pyspark.sql.functions import col\n",
    "vuelos_mayor_retraso_llegada = cleanFlightsDF.groupBy(\"Origin\", \"Dest\")\\\n",
    "                                     .agg(F.mean(col(\"ArrDelay\")).alias(\"avgDelay\"),\\\n",
    "                                          F.count(\"*\").alias(\"num_vuelos\"))\\\n",
    "                                     .sort(F.col(\"avgDelay\").desc())\n",
    "vuelos_mayor_retraso_llegada.show()"
   ]
  },
  {
   "cell_type": "code",
   "execution_count": 11,
   "id": "1cff2bea",
   "metadata": {},
   "outputs": [],
   "source": [
    "#Redondear el retraso medio a un decimal"
   ]
  },
  {
   "cell_type": "code",
   "execution_count": 14,
   "id": "bbec2f05",
   "metadata": {},
   "outputs": [
    {
     "name": "stdout",
     "output_type": "stream",
     "text": [
      "+------+----+--------+----------+\n",
      "|Origin|Dest|avgDelay|num_vuelos|\n",
      "+------+----+--------+----------+\n",
      "|   RDM| MFR|  1347.0|         2|\n",
      "|   MDT| HPN|   798.0|         1|\n",
      "|   ORD| GTF|   212.0|         1|\n",
      "|   ICT| DAY|   210.0|         1|\n",
      "|   ELM| ATL|   169.0|         2|\n",
      "|   DSM| PIA|   168.0|         1|\n",
      "|   ERI| ITH|   160.0|         1|\n",
      "|   YNG| PIE|   141.0|         1|\n",
      "|   CMH| HOU|   120.0|         1|\n",
      "|   HRL| DAL|   111.0|         1|\n",
      "|   PPG| HNL|   109.9|        35|\n",
      "|   HNL| PPG|   105.9|        35|\n",
      "|   PIE| YNG|   104.0|         1|\n",
      "|   AVP| SFB|    93.0|         1|\n",
      "|   ACY| MSY|    87.5|        11|\n",
      "|   CPR| LAS|    85.0|         1|\n",
      "|   LAS| CPR|    82.0|         1|\n",
      "|   TTN| BNA|    76.5|        10|\n",
      "|   MSP| PVD|    74.0|         1|\n",
      "|   TUL| OKC|    69.0|         1|\n",
      "+------+----+--------+----------+\n",
      "only showing top 20 rows\n",
      "\n"
     ]
    }
   ],
   "source": [
    "vuelos_mayor_retraso_llegada_round = cleanFlightsDF.groupBy(\"Origin\", \"Dest\")\\\n",
    "                                     .agg(F.round(F.mean(col(\"ArrDelay\")),1).alias(\"avgDelay\"),\\\n",
    "                                          F.count(\"*\").alias(\"num_vuelos\"))\\\n",
    "                                     .sort(F.col(\"avgDelay\").desc())\n",
    "vuelos_mayor_retraso_llegada_round.show()"
   ]
  },
  {
   "cell_type": "code",
   "execution_count": 15,
   "id": "1ed188fa",
   "metadata": {},
   "outputs": [],
   "source": [
    "#Vuelos ordenados por categoria segun el retraso de llegada entre los países con codigo MCI y MKE"
   ]
  },
  {
   "cell_type": "code",
   "execution_count": 16,
   "id": "854712ab",
   "metadata": {},
   "outputs": [
    {
     "name": "stdout",
     "output_type": "stream",
     "text": [
      "+------+----+-----------+-------+\n",
      "|Origin|Dest|ArrDelayCat|cuantos|\n",
      "+------+----+-----------+-------+\n",
      "|   MCI| MKE|       Huge|      8|\n",
      "|   MCI| MKE|       None|    172|\n",
      "|   MCI| MKE|     Slight|     18|\n",
      "+------+----+-----------+-------+\n",
      "\n"
     ]
    }
   ],
   "source": [
    "sortedAvgDelaysDF = cleanFlightsDF.groupBy(\"Origin\", \"Dest\", \"ArrDelayCat\").agg(\n",
    "                                        F.count(\"*\").alias(\"cuantos\"))\\\n",
    "                                    .where(\"Origin = 'MCI' and Dest = 'MKE'\").show()"
   ]
  },
  {
   "cell_type": "code",
   "execution_count": null,
   "id": "d17288cc",
   "metadata": {},
   "outputs": [],
   "source": [
    "#Mostrar de cada par origen-destino del cuál hay un vuelo, cuántos se retrasan a la salida agrupados por categoria"
   ]
  },
  {
   "cell_type": "code",
   "execution_count": 17,
   "id": "d2896ad6",
   "metadata": {},
   "outputs": [
    {
     "name": "stdout",
     "output_type": "stream",
     "text": [
      "+------+----+----+----+------+\n",
      "|Origin|Dest|Huge|None|Slight|\n",
      "+------+----+----+----+------+\n",
      "|   MCI| MKE|   8| 172|    18|\n",
      "|   TPA| ACY|   4| 112|     4|\n",
      "|   PBI| DCA|  37| 393|    49|\n",
      "|   DSM| EWR|  10|  94|    14|\n",
      "|   MDW| MEM|  22| 172|    42|\n",
      "|   ORD| PDX|  23| 528|    85|\n",
      "|   SHD| LWB|   2|  25|  null|\n",
      "|   SMF| BUR|  61| 720|   124|\n",
      "|   STS| PHX|   9| 105|    14|\n",
      "|   MCI| IAH|  38| 487|    54|\n",
      "|   FSD| ATL|   9|  83|     9|\n",
      "|   PHL| MCO| 162|1291|   273|\n",
      "|   ATL| GSP|  47|1080|   106|\n",
      "|   SJC| LIH|   1|  83|     5|\n",
      "|   DSM| MCO|   1|  30|    10|\n",
      "|   IAD| ILM|   2|  34|     8|\n",
      "|   PBG| PGD|   1|  19|     6|\n",
      "|   LBB| DEN|  20| 184|    20|\n",
      "|   SNA| PHX|  57| 967|   256|\n",
      "|   PIE| AVP|null|   1|  null|\n",
      "+------+----+----+----+------+\n",
      "only showing top 20 rows\n",
      "\n"
     ]
    }
   ],
   "source": [
    "sortedAvgDelaysDF = cleanFlightsDF.groupBy(\"Origin\", \"Dest\").pivot(\"ArrDelayCat\").agg(\n",
    "                                        F.count(\"*\").alias(\"cuantos\")\n",
    ")\n",
    "sortedAvgDelaysDF.show()"
   ]
  },
  {
   "cell_type": "code",
   "execution_count": null,
   "id": "a8898929",
   "metadata": {},
   "outputs": [],
   "source": [
    "#Mostrar de cada cada pais de origen del cuál hay un vuelo, cuántos se retrasan a la salida agrupados por categoria"
   ]
  },
  {
   "cell_type": "code",
   "execution_count": 18,
   "id": "0c11e9b8",
   "metadata": {},
   "outputs": [
    {
     "name": "stdout",
     "output_type": "stream",
     "text": [
      "+------+----+-----+------+\n",
      "|Origin|Huge| None|Slight|\n",
      "+------+----+-----+------+\n",
      "|   BGM|  32|  223|    27|\n",
      "|   PSE|  26|  194|    27|\n",
      "|   INL|  21|  172|    14|\n",
      "|   PPG|   4|   21|    10|\n",
      "|   MSY|1298|15297|  2262|\n",
      "|   GEG| 207| 5836|   596|\n",
      "|   SNA| 705|12038|  1464|\n",
      "|   BUR| 637| 7025|  1253|\n",
      "|   GRB| 173| 1441|   180|\n",
      "|   GTF|  59|  731|    86|\n",
      "|   IFP|null|   31|    14|\n",
      "|   IDA|  32|  699|    61|\n",
      "|   LWB|   5|   43|    10|\n",
      "|   GRR| 667| 5068|   863|\n",
      "|   PVU|  14|  133|    22|\n",
      "|   JLN|  27|  197|    53|\n",
      "|   EUG| 157| 2360|   261|\n",
      "|   PSG|  12|  211|    17|\n",
      "|   GSO| 528| 4011|   623|\n",
      "|   MYR| 262| 2335|   290|\n",
      "+------+----+-----+------+\n",
      "only showing top 20 rows\n",
      "\n"
     ]
    }
   ],
   "source": [
    "cleanFlightsDF.groupBy(\"Origin\")\\\n",
    "              .pivot(\"ArrDelayCat\")\\\n",
    "              .count().show()\n"
   ]
  },
  {
   "cell_type": "code",
   "execution_count": null,
   "id": "042bde11",
   "metadata": {},
   "outputs": [],
   "source": [
    "#PREGUNTA: ¿Es el avión un medio de transporte fiable? Mostrar el número de vuelos en cada categoría de retraso.\n",
    "\n",
    "En lugar de llamar agg(F.count(\"*\")), podemos llamar a la transformación count() sobre el resultado de groupBy(), y creará automáticamente una columna llamada \"count\" con los conteos para cada grupo.\n",
    "Ahora agrupar también por cada aeropuerto de origen, y mostrando una columna distinta por cada tipo de retraso, con el recuento. PISTA: utilizar la función pivot(\"colName\")."
   ]
  },
  {
   "cell_type": "code",
   "execution_count": 26,
   "id": "05fbc527",
   "metadata": {
    "scrolled": true
   },
   "outputs": [
    {
     "name": "stdout",
     "output_type": "stream",
     "text": [
      "+------+----+----+----+------+\n",
      "|Origin|Dest|Huge|None|Slight|\n",
      "+------+----+----+----+------+\n",
      "|   MCI| MKE|   8| 172|    18|\n",
      "|   TPA| ACY|   4| 112|     4|\n",
      "|   PBI| DCA|  37| 393|    49|\n",
      "|   DSM| EWR|  10|  94|    14|\n",
      "|   MDW| MEM|  22| 172|    42|\n",
      "|   ORD| PDX|  23| 528|    85|\n",
      "|   SHD| LWB|   2|  25|  null|\n",
      "|   SMF| BUR|  61| 720|   124|\n",
      "|   STS| PHX|   9| 105|    14|\n",
      "|   MCI| IAH|  38| 487|    54|\n",
      "|   FSD| ATL|   9|  83|     9|\n",
      "|   PHL| MCO| 162|1291|   273|\n",
      "|   ATL| GSP|  47|1080|   106|\n",
      "|   SJC| LIH|   1|  83|     5|\n",
      "|   DSM| MCO|   1|  30|    10|\n",
      "|   IAD| ILM|   2|  34|     8|\n",
      "|   PBG| PGD|   1|  19|     6|\n",
      "|   LBB| DEN|  20| 184|    20|\n",
      "|   SNA| PHX|  57| 967|   256|\n",
      "|   PIE| AVP|null|   1|  null|\n",
      "+------+----+----+----+------+\n",
      "only showing top 20 rows\n",
      "\n"
     ]
    }
   ],
   "source": [
    "vuelos_retraso= (cleanFlightsDF.groupBy(\"Origin\", \"Dest\")\\\n",
    "              .pivot(\"ArrDelayCat\")\\\n",
    "              .count())\n",
    "vuelos_retraso.show()"
   ]
  },
  {
   "cell_type": "code",
   "execution_count": 38,
   "id": "e30967fe",
   "metadata": {},
   "outputs": [
    {
     "name": "stdout",
     "output_type": "stream",
     "text": [
      "+----------+----------+------------+\n",
      "|total_huge|total_none|total_slight|\n",
      "+----------+----------+------------+\n",
      "|    200152|   2004727|      298234|\n",
      "+----------+----------+------------+\n",
      "\n"
     ]
    }
   ],
   "source": [
    "vuelo_huge=vuelos_retraso.agg(F.sum(col(\"Huge\")).alias(\"total_huge\"),\\\n",
    "                              F.sum(col(\"None\")).alias(\"total_none\"), \\\n",
    "                              F.sum(col(\"Slight\")).alias(\"total_slight\"))\n",
    "vuelo_huge.show()"
   ]
  },
  {
   "cell_type": "code",
   "execution_count": null,
   "id": "b7bf6933",
   "metadata": {},
   "outputs": [],
   "source": [
    "#PREGUNTA: ¿Hay relación entre el día de la semana y el retraso a la salida o a la llegada?\n",
    "\n",
    "#PISTA: Calcula el retraso medio a la salida y a la llegada para cada día de la semana y ordena por una de ellas descendentemente.\n"
   ]
  },
  {
   "cell_type": "code",
   "execution_count": 40,
   "id": "040b2375",
   "metadata": {},
   "outputs": [
    {
     "name": "stdout",
     "output_type": "stream",
     "text": [
      "+---------+-------------------+------------------+\n",
      "|DayOfWeek|        avgArrDelay|       avgDepDelay|\n",
      "+---------+-------------------+------------------+\n",
      "|        1|  5.391113068725289|10.430177708665964|\n",
      "|        5|  5.027363815430113|10.220785437977693|\n",
      "|        7| 3.2344449424598207| 9.142161259888235|\n",
      "|        3| 3.0525338339576717|  8.47071347600168|\n",
      "|        2| 2.8412409647873806| 8.246502522185226|\n",
      "|        4| 2.7390527404801026|  8.35856546210902|\n",
      "|        6|-0.5748593305876211| 6.278199328016013|\n",
      "+---------+-------------------+------------------+\n",
      "\n"
     ]
    }
   ],
   "source": [
    "from pyspark.sql.functions import col\n",
    "vuelos_dia_retraso = cleanFlightsDF.groupBy(\"DayOfWeek\")\\\n",
    "                                     .agg(F.mean(col(\"ArrDelay\")).alias(\"avgArrDelay\"),\\\n",
    "                                          F.mean(col(\"DepDelay\")).alias(\"avgDepDelay\"))\\\n",
    "                                     .sort(F.col(\"avgArrDelay\").desc())\n",
    "vuelos_dia_retraso.show()"
   ]
  },
  {
   "cell_type": "code",
   "execution_count": 45,
   "id": "33b88a07",
   "metadata": {},
   "outputs": [
    {
     "name": "stdout",
     "output_type": "stream",
     "text": [
      "+--------+---------+\n",
      "|ArrDelay|DayOfWeek|\n",
      "+--------+---------+\n",
      "|   -13.0|        3|\n",
      "|   -24.0|        7|\n",
      "|   -10.0|        1|\n",
      "|   -15.0|        2|\n",
      "|   -24.0|        3|\n",
      "|   -27.0|        4|\n",
      "|    -5.0|        6|\n",
      "|   -23.0|        1|\n",
      "|    -8.0|        2|\n",
      "|   -10.0|        4|\n",
      "|   -30.0|        5|\n",
      "|   -11.0|        7|\n",
      "|   -15.0|        1|\n",
      "|    -4.0|        3|\n",
      "|   -10.0|        4|\n",
      "|   -23.0|        6|\n",
      "|   -34.0|        7|\n",
      "|   -35.0|        3|\n",
      "|   -17.0|        1|\n",
      "|    -1.0|        3|\n",
      "+--------+---------+\n",
      "only showing top 20 rows\n",
      "\n"
     ]
    }
   ],
   "source": [
    "(cleanFlightsDF.select(\"ArrDelay\", \"DayOfWeek\").where(col(\"ArrDelay\")<0)).show()"
   ]
  },
  {
   "cell_type": "code",
   "execution_count": 46,
   "id": "38a71aa6",
   "metadata": {},
   "outputs": [],
   "source": [
    "#Ahora haz lo mismo para cada día pero solo con el retraso a la llegada,\n",
    "# desagregado por cada aeropuerto de salida, utilizando la función pivot()."
   ]
  },
  {
   "cell_type": "code",
   "execution_count": 62,
   "id": "f36d7d49",
   "metadata": {},
   "outputs": [
    {
     "name": "stdout",
     "output_type": "stream",
     "text": [
      "+------+------------------+-------------------+-------------------+--------------------+--------------------+-------------------+-------------------+\n",
      "|Origin|                 1|                  2|                  3|                   4|                   5|                  6|                  7|\n",
      "+------+------------------+-------------------+-------------------+--------------------+--------------------+-------------------+-------------------+\n",
      "|   BGM|               5.5|  5.951219512195122| 23.097560975609756|   60.09756097560975|  13.868421052631579|              11.24| -2.813953488372093|\n",
      "|   PSE|-4.416666666666667| 10.545454545454545|               -9.8|  0.6857142857142857| -1.7647058823529411|  2.088235294117647| -4.151515151515151|\n",
      "|   INL|-4.606060606060606|  12.88888888888889|-1.2352941176470589|   20.08823529411765| -11.588235294117647|-13.129032258064516|  3.967741935483871|\n",
      "|   MSY|3.0626750700280114|  2.519657454262359|  5.621753246753247|  2.8130290761869707|   5.146305779078274| 2.7200674536256324|  5.273676629456248|\n",
      "|   PPG| 35.05882352941177|               null|               31.0|   99.16666666666667|  238.45454545454547|               null|               null|\n",
      "|   GEG|-2.128305582761998|-3.9159663865546217| -5.361256544502618| -0.7920489296636085| -0.7767584097859327|-3.4244694132334583|-3.5434782608695654|\n",
      "|   BUR| 5.828815977175464| 1.4825174825174825|   4.89644513137558|   7.431714719271624|   8.145331325301205|  1.722994652406417| 3.9499568593615186|\n",
      "|   SNA|1.6996904024767803| -2.965284474445516|-2.6036556036556036|  1.7408622305529522|   3.816658911121452| -5.730434782608696| 0.5877053524112348|\n",
      "|   GRB|  21.4089219330855| 3.4031620553359683| 0.3684210526315789|-0.11406844106463879|   4.046153846153846| -8.178378378378378|  1.991150442477876|\n",
      "|   GTF|  9.96376811594203| 1.1031746031746033| -5.900900900900901|  1.8106060606060606|  14.687022900763358|  8.245283018867925|  5.094488188976378|\n",
      "|   IFP| 9.714285714285714| 14.428571428571429| 10.428571428571429|  16.333333333333332|                 5.5| -6.166666666666667|               -4.0|\n",
      "|   IDA| 3.393700787401575| -4.192982456140351|-13.452830188679245| -7.7560975609756095|  6.8861788617886175| -8.645569620253164| 11.870689655172415|\n",
      "|   GRR| 11.34965034965035|  8.911229946524065|  4.952225841476656|  2.2533889468196038|  3.4764397905759163|  4.401564537157758| 10.617579908675799|\n",
      "|   LWB| 4.714285714285714| 1.1428571428571428|               12.5| -2.7777777777777777|   68.66666666666667|              20.75|  4.111111111111111|\n",
      "|   PVU|24.151515151515152| 3.5238095238095237|-10.454545454545455|                2.24|                 7.0|  25.68421052631579| -9.041666666666666|\n",
      "|   JLN| 20.82051282051282|  17.13157894736842|  6.615384615384615| -3.6666666666666665|-0.43902439024390244| 1.5588235294117647| 11.393939393939394|\n",
      "|   PSG|-6.264705882352941| -5.352941176470588|-12.696969696969697| -1.4705882352941178|  -7.606060606060606| -3.272727272727273|           -12.5625|\n",
      "|   EUG| 5.426666666666667| 0.6347150259067358| -1.717616580310881|   5.865822784810127|   4.277389277389277| -2.102409638554217|         -0.2578125|\n",
      "|   GSO| 6.604767879548306| 1.4373333333333334| 11.070402298850574|   5.657068062827225|    4.62483311081442|-0.5906432748538012| 3.5712230215827336|\n",
      "|   MYR|3.2935560859188544| 2.4516129032258065|  9.504225352112677|  3.8214285714285716|   7.740196078431373|  4.581018518518518|0.24170616113744076|\n",
      "+------+------------------+-------------------+-------------------+--------------------+--------------------+-------------------+-------------------+\n",
      "only showing top 20 rows\n",
      "\n"
     ]
    }
   ],
   "source": [
    "from pyspark.sql.functions import avg\n",
    "vuelos_dia_retraso_llegada = (cleanFlightsDF.groupBy(\"Origin\")\\\n",
    "                                     .pivot(\"DayOfWeek\")\\\n",
    "                                     .avg(\"ArrDelay\"))\n",
    "vuelos_dia_retraso_llegada.show()"
   ]
  },
  {
   "cell_type": "code",
   "execution_count": null,
   "id": "14cdc437",
   "metadata": {},
   "outputs": [],
   "source": []
  }
 ],
 "metadata": {
  "kernelspec": {
   "display_name": "Python 3",
   "language": "python",
   "name": "python3"
  },
  "language_info": {
   "codemirror_mode": {
    "name": "ipython",
    "version": 3
   },
   "file_extension": ".py",
   "mimetype": "text/x-python",
   "name": "python",
   "nbconvert_exporter": "python",
   "pygments_lexer": "ipython3",
   "version": "3.8.8"
  }
 },
 "nbformat": 4,
 "nbformat_minor": 5
}
