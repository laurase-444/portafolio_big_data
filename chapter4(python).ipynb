{
 "cells": [
  {
   "cell_type": "code",
   "execution_count": 1,
   "id": "afd82760",
   "metadata": {},
   "outputs": [],
   "source": [
    "from pyspark.sql import SparkSession\n",
    "\n",
    "spark = (SparkSession\n",
    "        .builder\n",
    "        .appName(\"PythonMnMCount\")\n",
    "        .getOrCreate())"
   ]
  },
  {
   "cell_type": "code",
   "execution_count": 2,
   "id": "1176f405",
   "metadata": {},
   "outputs": [
    {
     "data": {
      "text/plain": [
       "DataFrame[]"
      ]
     },
     "execution_count": 2,
     "metadata": {},
     "output_type": "execute_result"
    }
   ],
   "source": [
    "spark.sql(\"CREATE DATABASE learn_spark_db\")\n",
    "spark.sql(\"USE learn_spark_db\")"
   ]
  },
  {
   "cell_type": "code",
   "execution_count": 4,
   "id": "27a1ff61",
   "metadata": {},
   "outputs": [],
   "source": [
    "csv_file = \"C:/Users/laura.serrano/Desktop/departuredelays.csv\"\n",
    "# Schema as defined in the preceding example\n",
    "schema=\"date STRING, delay INT, distance INT, origin STRING, destination STRING\"\n",
    "flights_df = spark.read.csv(csv_file, schema=schema)\n",
    "flights_df.write.saveAsTable(\"managed_us_delay_flights_tbl2\")"
   ]
  },
  {
   "cell_type": "code",
   "execution_count": 5,
   "id": "dfaaba3e",
   "metadata": {},
   "outputs": [],
   "source": [
    "(flights_df\n",
    " .write\n",
    " .option(\"path\", \"C:/Users/laura.serrano/Desktop/big_data/spark/LearningSparkV2-master/LearningSparkV2-master/databricks-datasets/learning-spark-v2/flights/departuredelays.csv\")\n",
    " .saveAsTable(\"us_delay_flights_tbl\"))"
   ]
  },
  {
   "cell_type": "markdown",
   "id": "bee3c11b",
   "metadata": {},
   "source": [
    "CREAR VISTAS"
   ]
  },
  {
   "cell_type": "code",
   "execution_count": 6,
   "id": "8434c863",
   "metadata": {},
   "outputs": [],
   "source": [
    "df_sfo = spark.sql(\"SELECT date, delay, origin, destination FROM us_delay_flights_tbl WHERE origin = 'SFO'\")\n",
    "df_jfk = spark.sql(\"SELECT date, delay, origin, destination FROM us_delay_flights_tbl WHERE origin = 'JFK'\")\n"
   ]
  },
  {
   "cell_type": "code",
   "execution_count": 7,
   "id": "333c0447",
   "metadata": {},
   "outputs": [],
   "source": [
    "df_sfo.createOrReplaceGlobalTempView(\"us_origin_airport_SFO_global_tmp_view\")\n",
    "df_jfk.createOrReplaceTempView(\"us_origin_airport_JFK_tmp_view\")\n"
   ]
  },
  {
   "cell_type": "code",
   "execution_count": 8,
   "id": "e9f0aa7c",
   "metadata": {},
   "outputs": [
    {
     "name": "stdout",
     "output_type": "stream",
     "text": [
      "+--------+-----+------+-----------+\n",
      "|    date|delay|origin|destination|\n",
      "+--------+-----+------+-----------+\n",
      "|02010900|   -1|   JFK|        LAX|\n",
      "|02011200|   -5|   JFK|        LAX|\n",
      "|02011030|   -6|   JFK|        LAX|\n",
      "|02011900|   -1|   JFK|        LAX|\n",
      "|02011700|   -3|   JFK|        LAS|\n",
      "|02010800|   -4|   JFK|        SFO|\n",
      "|02011540|    0|   JFK|        DFW|\n",
      "|02011705|   30|   JFK|        SAN|\n",
      "|02010800|   26|   JFK|        BOS|\n",
      "|02011530|   -2|   JFK|        SFO|\n",
      "|02011630|    1|   JFK|        SJU|\n",
      "|02011345|   -5|   JFK|        LAX|\n",
      "|02011545|   15|   JFK|        LAX|\n",
      "|02011510|    5|   JFK|        MIA|\n",
      "|02011250|   -9|   JFK|        BOS|\n",
      "|02011030|   -4|   JFK|        SFO|\n",
      "|02011645|   26|   JFK|        LAX|\n",
      "|02012135|   -5|   JFK|        LAX|\n",
      "|02011715|   -6|   JFK|        ORD|\n",
      "|02011840|   51|   JFK|        SEA|\n",
      "+--------+-----+------+-----------+\n",
      "only showing top 20 rows\n",
      "\n"
     ]
    }
   ],
   "source": [
    "spark.sql(\"SELECT * FROM us_origin_airport_JFK_tmp_view\").show()"
   ]
  },
  {
   "cell_type": "code",
   "execution_count": 9,
   "id": "607e27ab",
   "metadata": {},
   "outputs": [],
   "source": [
    "spark.catalog.dropGlobalTempView(\"us_origin_airport_SFO_global_tmp_view\")\n",
    "spark.catalog.dropTempView(\"us_origin_airport_JFK_tmp_view\")"
   ]
  },
  {
   "cell_type": "code",
   "execution_count": 10,
   "id": "9bc0440a",
   "metadata": {},
   "outputs": [
    {
     "data": {
      "text/plain": [
       "[Column(name='date', description=None, dataType='string', nullable=True, isPartition=False, isBucket=False),\n",
       " Column(name='delay', description=None, dataType='int', nullable=True, isPartition=False, isBucket=False),\n",
       " Column(name='distance', description=None, dataType='int', nullable=True, isPartition=False, isBucket=False),\n",
       " Column(name='origin', description=None, dataType='string', nullable=True, isPartition=False, isBucket=False),\n",
       " Column(name='destination', description=None, dataType='string', nullable=True, isPartition=False, isBucket=False)]"
      ]
     },
     "execution_count": 10,
     "metadata": {},
     "output_type": "execute_result"
    }
   ],
   "source": [
    "spark.catalog.listDatabases()\n",
    "spark.catalog.listTables()\n",
    "spark.catalog.listColumns(\"us_delay_flights_tbl\")"
   ]
  },
  {
   "cell_type": "code",
   "execution_count": 11,
   "id": "baf50efa",
   "metadata": {},
   "outputs": [],
   "source": [
    "us_flights_df = spark.sql(\"SELECT * FROM us_delay_flights_tbl\")\n",
    "us_flights_df2 = spark.table(\"us_delay_flights_tbl\")"
   ]
  },
  {
   "cell_type": "code",
   "execution_count": 12,
   "id": "3ca8ca54",
   "metadata": {},
   "outputs": [
    {
     "name": "stdout",
     "output_type": "stream",
     "text": [
      "+--------+-----+--------+------+-----------+\n",
      "|    date|delay|distance|origin|destination|\n",
      "+--------+-----+--------+------+-----------+\n",
      "|01010630|  -10|     928|   RSW|        EWR|\n",
      "|01021029|   87|     974|   RSW|        ORD|\n",
      "|01021346|    0|     928|   RSW|        EWR|\n",
      "|01021044|   18|     928|   RSW|        EWR|\n",
      "|01021730|   29|     748|   RSW|        IAH|\n",
      "|01020535|  605|     974|   RSW|        ORD|\n",
      "|01021820|   71|     974|   RSW|        ORD|\n",
      "|01021743|    0|     928|   RSW|        EWR|\n",
      "|01022017|    0|     928|   RSW|        EWR|\n",
      "|01020600|   -2|     748|   RSW|        IAH|\n",
      "|01021214|   29|     891|   RSW|        CLE|\n",
      "|01020630|   -5|     928|   RSW|        EWR|\n",
      "|01031029|   13|     974|   RSW|        ORD|\n",
      "|01031346|  279|     928|   RSW|        EWR|\n",
      "|01031740|   29|     748|   RSW|        IAH|\n",
      "|01030535|    0|     974|   RSW|        ORD|\n",
      "|01031808|   -3|     974|   RSW|        ORD|\n",
      "|01031516|   -2|    1396|   RSW|        DEN|\n",
      "|01032017|   14|     928|   RSW|        EWR|\n",
      "|01031214|   17|     891|   RSW|        CLE|\n",
      "+--------+-----+--------+------+-----------+\n",
      "only showing top 20 rows\n",
      "\n"
     ]
    }
   ],
   "source": [
    "us_flights_df2.show()"
   ]
  },
  {
   "cell_type": "markdown",
   "id": "660e0808",
   "metadata": {},
   "source": [
    "LEER UNA IMAGEN"
   ]
  },
  {
   "cell_type": "code",
   "execution_count": 13,
   "id": "e2248000",
   "metadata": {},
   "outputs": [
    {
     "name": "stdout",
     "output_type": "stream",
     "text": [
      "root\n",
      " |-- image: struct (nullable = true)\n",
      " |    |-- origin: string (nullable = true)\n",
      " |    |-- height: integer (nullable = true)\n",
      " |    |-- width: integer (nullable = true)\n",
      " |    |-- nChannels: integer (nullable = true)\n",
      " |    |-- mode: integer (nullable = true)\n",
      " |    |-- data: binary (nullable = true)\n",
      " |-- label: integer (nullable = true)\n",
      "\n"
     ]
    }
   ],
   "source": [
    "from pyspark.ml import image\n",
    "image_dir = \"C:/Users/laura.serrano/Desktop/big_data/spark/LearningSparkV2-master/LearningSparkV2-master/databricks-datasets/learning-spark-v2/cctvVideos/train_images\"\n",
    "images_df = spark.read.format(\"image\").load(image_dir)\n",
    "images_df.printSchema()"
   ]
  },
  {
   "cell_type": "code",
   "execution_count": null,
   "id": "89e2b7b2",
   "metadata": {},
   "outputs": [],
   "source": []
  }
 ],
 "metadata": {
  "kernelspec": {
   "display_name": "Python 3",
   "language": "python",
   "name": "python3"
  },
  "language_info": {
   "codemirror_mode": {
    "name": "ipython",
    "version": 3
   },
   "file_extension": ".py",
   "mimetype": "text/x-python",
   "name": "python",
   "nbconvert_exporter": "python",
   "pygments_lexer": "ipython3",
   "version": "3.8.8"
  }
 },
 "nbformat": 4,
 "nbformat_minor": 5
}
